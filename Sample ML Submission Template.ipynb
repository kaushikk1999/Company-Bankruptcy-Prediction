{
 "cells": [
  {
   "cell_type": "markdown",
   "metadata": {
    "id": "vncDsAP0Gaoa"
   },
   "source": [
    "# **Project Name**    - \n",
    "\n"
   ]
  },
  {
   "cell_type": "markdown",
   "metadata": {
    "id": "beRrZCGUAJYm"
   },
   "source": [
    "##### **Project Type**    - Classification\n",
    "##### **Contribution**    - Individual\n",
    "##### **Team Member 1 -**\n",
    "##### **Team Member 2 -**\n",
    "##### **Team Member 3 -**\n",
    "##### **Team Member 4 -**"
   ]
  },
  {
   "cell_type": "markdown",
   "metadata": {
    "id": "FJNUwmbgGyua"
   },
   "source": [
    "# **Project Summary -**"
   ]
  },
  {
   "cell_type": "markdown",
   "metadata": {
    "id": "F6v_1wHtG2nS"
   },
   "source": [
    "Write the summary here within 500-600 words.\n",
    "\n",
    "Prediction of bankruptcy is a phenomenon of increasing interest to firms who stand to lose money because of unpaid debts. Since computers can store huge data sets pertaining to bankruptcy, making accurate predictions from them beforehand is becoming important. The data were collected from the Taiwan Economic Journal for the years 1999 to 2009. Company bankruptcy was defined based on the business regulations of the Taiwan Stock Exchange. In this project you will use various classification algorithms on bankruptcy dataset to predict bankruptcies with satisfying accuracies long before the actual event."
   ]
  },
  {
   "cell_type": "markdown",
   "metadata": {
    "id": "w6K7xa23Elo4"
   },
   "source": [
    "# **GitHub Link -**"
   ]
  },
  {
   "cell_type": "markdown",
   "metadata": {
    "id": "h1o69JH3Eqqn"
   },
   "source": [
    "Provide your GitHub Link here."
   ]
  },
  {
   "cell_type": "markdown",
   "metadata": {
    "id": "yQaldy8SH6Dl"
   },
   "source": [
    "# **Problem Statement**\n"
   ]
  },
  {
   "cell_type": "markdown",
   "metadata": {
    "id": "DpeJGUA3kjGy"
   },
   "source": [
    "**Write Problem Statement Here.**\n",
    "\n",
    "In today's competitive business environment, it is crucial for investors, lenders, and stakeholders to accurately assess the financial health and stability of companies they are involved with or considering investing in. Bankruptcy is a severe financial event that can have far-reaching consequences, including loss of investments, job cuts, and economic instability. Therefore, there is a pressing need to develop effective predictive models that can identify the warning signs of company bankruptcy in advance."
   ]
  },
  {
   "cell_type": "markdown",
   "metadata": {
    "id": "mDgbUHAGgjLW"
   },
   "source": [
    "# **General Guidelines** : -  "
   ]
  },
  {
   "cell_type": "markdown",
   "metadata": {
    "id": "ZrxVaUj-hHfC"
   },
   "source": [
    "1.   Well-structured, formatted, and commented code is required. \n",
    "2.   Exception Handling, Production Grade Code & Deployment Ready Code will be a plus. Those students will be awarded some additional credits. \n",
    "     \n",
    "     The additional credits will have advantages over other students during Star Student selection.\n",
    "       \n",
    "             [ Note: - Deployment Ready Code is defined as, the whole .ipynb notebook should be executable in one go\n",
    "                       without a single error logged. ]\n",
    "\n",
    "3.   Each and every logic should have proper comments.\n",
    "4. You may add as many number of charts you want. Make Sure for each and every chart the following format should be answered.\n",
    "        \n",
    "\n",
    "```\n",
    "# Chart visualization code\n",
    "```\n",
    "            \n",
    "\n",
    "*   Why did you pick the specific chart?\n",
    "*   What is/are the insight(s) found from the chart?\n",
    "* Will the gained insights help creating a positive business impact? \n",
    "Are there any insights that lead to negative growth? Justify with specific reason.\n",
    "\n",
    "5. You have to create at least 15 logical & meaningful charts having important insights.\n",
    "\n",
    "\n",
    "[ Hints : - Do the Vizualization in  a structured way while following \"UBM\" Rule. \n",
    "\n",
    "U - Univariate Analysis,\n",
    "\n",
    "B - Bivariate Analysis (Numerical - Categorical, Numerical - Numerical, Categorical - Categorical)\n",
    "\n",
    "M - Multivariate Analysis\n",
    " ]\n",
    "\n",
    "\n",
    "\n",
    "\n",
    "\n",
    "6. You may add more ml algorithms for model creation. Make sure for each and every algorithm, the following format should be answered.\n",
    "\n",
    "\n",
    "*   Explain the ML Model used and it's performance using Evaluation metric Score Chart.\n",
    "\n",
    "\n",
    "*   Cross- Validation & Hyperparameter Tuning\n",
    "\n",
    "*   Have you seen any improvement? Note down the improvement with updates Evaluation metric Score Chart.\n",
    "\n",
    "*   Explain each evaluation metric's indication towards business and the business impact pf the ML model used.\n",
    "\n",
    "\n",
    "\n",
    "\n",
    "\n",
    "\n",
    "\n",
    "\n",
    "\n",
    "\n",
    "\n",
    "\n",
    "\n",
    "\n",
    "\n",
    "\n",
    "\n",
    "\n"
   ]
  },
  {
   "cell_type": "markdown",
   "metadata": {
    "id": "O_i_v8NEhb9l"
   },
   "source": [
    "# ***Let's Begin !***"
   ]
  },
  {
   "cell_type": "markdown",
   "metadata": {
    "id": "HhfV-JJviCcP"
   },
   "source": [
    "## ***1. Know Your Data***"
   ]
  },
  {
   "cell_type": "markdown",
   "metadata": {
    "id": "Y3lxredqlCYt"
   },
   "source": [
    "### Import Libraries"
   ]
  },
  {
   "cell_type": "code",
   "execution_count": 28,
   "metadata": {
    "id": "M8Vqi-pPk-HR"
   },
   "outputs": [],
   "source": [
    "# Import Libraries\n",
    "\n",
    "\n",
    "import matplotlib.pyplot as plt                        # visualize with plots\n",
    "%matplotlib inline\n",
    "import seaborn as sns\n",
    "plt.style.use('seaborn-white')\n",
    "import plotly.express as px \n",
    "import numpy as np\n",
    "import pandas as pd\n",
    "\n",
    "from datetime import datetime                          # to convert to date\n",
    "from statsmodels.tsa.arima_model import ARIMA          # to build ARIMA\n",
    "#from fbprophet import Prophet                          # to build prophet\n",
    "\n",
    "from dateutil.relativedelta import relativedelta       # working with dates with style\n",
    "from datetime import datetime                          # computational cost\n",
    "from scipy.optimize import minimize                    # for function minimization\n",
    "import copy                                            # create copies\n",
    "\n",
    "from sklearn.preprocessing import (MinMaxScaler,       # scale the data\n",
    "StandardScaler)         \n",
    "from sklearn.model_selection import train_test_split   # split train and test data\n",
    "from sklearn.model_selection import (cross_val_score,  # split train and test data on a timeseries\n",
    "TimeSeriesSplit)\n",
    "\n",
    "from sklearn.linear_model import LinearRegression      # regression model\n",
    "from xgboost import XGBRegressor                       # xgboost model\n",
    "from sklearn.ensemble import RandomForestRegressor     # random forest model\n",
    "from sklearn.svm import SVR                            # support vector regressor\n",
    "from sklearn.linear_model import (Lasso, Ridge,        # regularization\n",
    "ElasticNet, LassoCV, RidgeCV, ElasticNetCV)\n",
    "from sklearn.model_selection import GridSearchCV       # grid search to optimize parameters\n",
    "\n",
    "from sklearn.metrics import (r2_score,                 # import required metrics\n",
    "mean_squared_error,  mean_absolute_percentage_error, \n",
    "mean_absolute_error)\n",
    "\n",
    "from statsmodels.tsa.stattools import adfuller         # statistics and econometrics\n",
    "import statsmodels.formula.api as smf                  \n",
    "import statsmodels.tsa.api as smt\n",
    "import statsmodels.api as sm\n",
    "import scipy.stats as scs\n",
    "import warnings\n",
    "\n",
    "# Ignore warning messages\n",
    "warnings.filterwarnings('ignore')\n",
    "\n",
    "# Your code generating the warning\n",
    "\n",
    "# Reset warning behavior (optional)\n",
    "warnings.resetwarnings()\n",
    "\n",
    "# To supress warnings\n",
    "import warnings\n",
    "warnings.filterwarnings(\"ignore\")\n",
    "warnings.filterwarnings(\"ignore\", category=DeprecationWarning)\n",
    "\n",
    "# Basic Libraries for Data organization, Statistical operations and Plotting\n",
    "import numpy as np\n",
    "import pandas as pd\n",
    "%matplotlib inline\n",
    "# For loading .arff files\n",
    "from scipy.io import arff\n",
    "# To analyze the type of missing data\n",
    "import missingno as msno\n",
    "# Library for performing k-NN and MICE imputations \n",
    "import fancyimpute\n",
    "# Library to perform Expectation-Maximization (EM) imputation\n",
    "import impyute as impy\n",
    "# To perform mean imputation\n",
    "#from sklearn.preprocessing import Imputer\n",
    "from sklearn.impute import SimpleImputer\n",
    "#To perform kFold Cross Validation\n",
    "from sklearn.model_selection import KFold\n",
    "# Formatted counter of class labels\n",
    "from collections import Counter\n",
    "# Ordered Dictionary\n",
    "from collections import OrderedDict\n",
    "# Library imbalanced-learn to deal with the data imbalance. To use SMOTE oversampling\n",
    "from imblearn.over_sampling import SMOTE \n",
    "\n",
    "# Impoting classification models\n",
    "from xgboost import XGBClassifier\n",
    "from sklearn.svm import SVC\n",
    "from sklearn.ensemble import RandomForestClassifier\n",
    "from sklearn.linear_model import LogisticRegression\n",
    "from imblearn.ensemble import BalancedBaggingClassifier\n",
    "from sklearn.tree import DecisionTreeClassifier\n",
    "from sklearn.naive_bayes import GaussianNB\n",
    "\n",
    "import random\n",
    "\n",
    "from sklearn.metrics import accuracy_score\n",
    "from sklearn.metrics import precision_score\n",
    "from sklearn.metrics import recall_score\n",
    "from sklearn.metrics import classification_report\n",
    "from sklearn.metrics import confusion_matrix\n",
    "from sklearn.metrics import roc_curve\n",
    "from sklearn.metrics import precision_recall_curve"
   ]
  },
  {
   "cell_type": "code",
   "execution_count": null,
   "metadata": {},
   "outputs": [],
   "source": []
  },
  {
   "cell_type": "markdown",
   "metadata": {
    "id": "3RnN4peoiCZX"
   },
   "source": [
    "### Dataset Loading"
   ]
  },
  {
   "cell_type": "code",
   "execution_count": 5,
   "metadata": {
    "id": "4CkvbW_SlZ_R"
   },
   "outputs": [],
   "source": [
    "# Load Dataset\n",
    "df=  pd.read_csv(r'COMPANY BANKRUPTCY PREDICTION.csv')"
   ]
  },
  {
   "cell_type": "markdown",
   "metadata": {
    "id": "x71ZqKXriCWQ"
   },
   "source": [
    "### Dataset First View"
   ]
  },
  {
   "cell_type": "code",
   "execution_count": 6,
   "metadata": {
    "id": "LWNFOSvLl09H"
   },
   "outputs": [
    {
     "data": {
      "text/html": [
       "<div>\n",
       "<style scoped>\n",
       "    .dataframe tbody tr th:only-of-type {\n",
       "        vertical-align: middle;\n",
       "    }\n",
       "\n",
       "    .dataframe tbody tr th {\n",
       "        vertical-align: top;\n",
       "    }\n",
       "\n",
       "    .dataframe thead th {\n",
       "        text-align: right;\n",
       "    }\n",
       "</style>\n",
       "<table border=\"1\" class=\"dataframe\">\n",
       "  <thead>\n",
       "    <tr style=\"text-align: right;\">\n",
       "      <th></th>\n",
       "      <th>Bankrupt?</th>\n",
       "      <th>ROA(C) before interest and depreciation before interest</th>\n",
       "      <th>ROA(A) before interest and % after tax</th>\n",
       "      <th>ROA(B) before interest and depreciation after tax</th>\n",
       "      <th>Operating Gross Margin</th>\n",
       "      <th>Realized Sales Gross Margin</th>\n",
       "      <th>Operating Profit Rate</th>\n",
       "      <th>Pre-tax net Interest Rate</th>\n",
       "      <th>After-tax net Interest Rate</th>\n",
       "      <th>Non-industry income and expenditure/revenue</th>\n",
       "      <th>...</th>\n",
       "      <th>Net Income to Total Assets</th>\n",
       "      <th>Total assets to GNP price</th>\n",
       "      <th>No-credit Interval</th>\n",
       "      <th>Gross Profit to Sales</th>\n",
       "      <th>Net Income to Stockholder's Equity</th>\n",
       "      <th>Liability to Equity</th>\n",
       "      <th>Degree of Financial Leverage (DFL)</th>\n",
       "      <th>Interest Coverage Ratio (Interest expense to EBIT)</th>\n",
       "      <th>Net Income Flag</th>\n",
       "      <th>Equity to Liability</th>\n",
       "    </tr>\n",
       "  </thead>\n",
       "  <tbody>\n",
       "    <tr>\n",
       "      <th>0</th>\n",
       "      <td>1</td>\n",
       "      <td>0.370594</td>\n",
       "      <td>0.424389</td>\n",
       "      <td>0.405750</td>\n",
       "      <td>0.601457</td>\n",
       "      <td>0.601457</td>\n",
       "      <td>0.998969</td>\n",
       "      <td>0.796887</td>\n",
       "      <td>0.808809</td>\n",
       "      <td>0.302646</td>\n",
       "      <td>...</td>\n",
       "      <td>0.716845</td>\n",
       "      <td>0.009219</td>\n",
       "      <td>0.622879</td>\n",
       "      <td>0.601453</td>\n",
       "      <td>0.827890</td>\n",
       "      <td>0.290202</td>\n",
       "      <td>0.026601</td>\n",
       "      <td>0.564050</td>\n",
       "      <td>1</td>\n",
       "      <td>0.016469</td>\n",
       "    </tr>\n",
       "    <tr>\n",
       "      <th>1</th>\n",
       "      <td>1</td>\n",
       "      <td>0.464291</td>\n",
       "      <td>0.538214</td>\n",
       "      <td>0.516730</td>\n",
       "      <td>0.610235</td>\n",
       "      <td>0.610235</td>\n",
       "      <td>0.998946</td>\n",
       "      <td>0.797380</td>\n",
       "      <td>0.809301</td>\n",
       "      <td>0.303556</td>\n",
       "      <td>...</td>\n",
       "      <td>0.795297</td>\n",
       "      <td>0.008323</td>\n",
       "      <td>0.623652</td>\n",
       "      <td>0.610237</td>\n",
       "      <td>0.839969</td>\n",
       "      <td>0.283846</td>\n",
       "      <td>0.264577</td>\n",
       "      <td>0.570175</td>\n",
       "      <td>1</td>\n",
       "      <td>0.020794</td>\n",
       "    </tr>\n",
       "    <tr>\n",
       "      <th>2</th>\n",
       "      <td>1</td>\n",
       "      <td>0.426071</td>\n",
       "      <td>0.499019</td>\n",
       "      <td>0.472295</td>\n",
       "      <td>0.601450</td>\n",
       "      <td>0.601364</td>\n",
       "      <td>0.998857</td>\n",
       "      <td>0.796403</td>\n",
       "      <td>0.808388</td>\n",
       "      <td>0.302035</td>\n",
       "      <td>...</td>\n",
       "      <td>0.774670</td>\n",
       "      <td>0.040003</td>\n",
       "      <td>0.623841</td>\n",
       "      <td>0.601449</td>\n",
       "      <td>0.836774</td>\n",
       "      <td>0.290189</td>\n",
       "      <td>0.026555</td>\n",
       "      <td>0.563706</td>\n",
       "      <td>1</td>\n",
       "      <td>0.016474</td>\n",
       "    </tr>\n",
       "    <tr>\n",
       "      <th>3</th>\n",
       "      <td>1</td>\n",
       "      <td>0.399844</td>\n",
       "      <td>0.451265</td>\n",
       "      <td>0.457733</td>\n",
       "      <td>0.583541</td>\n",
       "      <td>0.583541</td>\n",
       "      <td>0.998700</td>\n",
       "      <td>0.796967</td>\n",
       "      <td>0.808966</td>\n",
       "      <td>0.303350</td>\n",
       "      <td>...</td>\n",
       "      <td>0.739555</td>\n",
       "      <td>0.003252</td>\n",
       "      <td>0.622929</td>\n",
       "      <td>0.583538</td>\n",
       "      <td>0.834697</td>\n",
       "      <td>0.281721</td>\n",
       "      <td>0.026697</td>\n",
       "      <td>0.564663</td>\n",
       "      <td>1</td>\n",
       "      <td>0.023982</td>\n",
       "    </tr>\n",
       "    <tr>\n",
       "      <th>4</th>\n",
       "      <td>1</td>\n",
       "      <td>0.465022</td>\n",
       "      <td>0.538432</td>\n",
       "      <td>0.522298</td>\n",
       "      <td>0.598783</td>\n",
       "      <td>0.598783</td>\n",
       "      <td>0.998973</td>\n",
       "      <td>0.797366</td>\n",
       "      <td>0.809304</td>\n",
       "      <td>0.303475</td>\n",
       "      <td>...</td>\n",
       "      <td>0.795016</td>\n",
       "      <td>0.003878</td>\n",
       "      <td>0.623521</td>\n",
       "      <td>0.598782</td>\n",
       "      <td>0.839973</td>\n",
       "      <td>0.278514</td>\n",
       "      <td>0.024752</td>\n",
       "      <td>0.575617</td>\n",
       "      <td>1</td>\n",
       "      <td>0.035490</td>\n",
       "    </tr>\n",
       "    <tr>\n",
       "      <th>...</th>\n",
       "      <td>...</td>\n",
       "      <td>...</td>\n",
       "      <td>...</td>\n",
       "      <td>...</td>\n",
       "      <td>...</td>\n",
       "      <td>...</td>\n",
       "      <td>...</td>\n",
       "      <td>...</td>\n",
       "      <td>...</td>\n",
       "      <td>...</td>\n",
       "      <td>...</td>\n",
       "      <td>...</td>\n",
       "      <td>...</td>\n",
       "      <td>...</td>\n",
       "      <td>...</td>\n",
       "      <td>...</td>\n",
       "      <td>...</td>\n",
       "      <td>...</td>\n",
       "      <td>...</td>\n",
       "      <td>...</td>\n",
       "      <td>...</td>\n",
       "    </tr>\n",
       "    <tr>\n",
       "      <th>6814</th>\n",
       "      <td>0</td>\n",
       "      <td>0.493687</td>\n",
       "      <td>0.539468</td>\n",
       "      <td>0.543230</td>\n",
       "      <td>0.604455</td>\n",
       "      <td>0.604462</td>\n",
       "      <td>0.998992</td>\n",
       "      <td>0.797409</td>\n",
       "      <td>0.809331</td>\n",
       "      <td>0.303510</td>\n",
       "      <td>...</td>\n",
       "      <td>0.799927</td>\n",
       "      <td>0.000466</td>\n",
       "      <td>0.623620</td>\n",
       "      <td>0.604455</td>\n",
       "      <td>0.840359</td>\n",
       "      <td>0.279606</td>\n",
       "      <td>0.027064</td>\n",
       "      <td>0.566193</td>\n",
       "      <td>1</td>\n",
       "      <td>0.029890</td>\n",
       "    </tr>\n",
       "    <tr>\n",
       "      <th>6815</th>\n",
       "      <td>0</td>\n",
       "      <td>0.475162</td>\n",
       "      <td>0.538269</td>\n",
       "      <td>0.524172</td>\n",
       "      <td>0.598308</td>\n",
       "      <td>0.598308</td>\n",
       "      <td>0.998992</td>\n",
       "      <td>0.797414</td>\n",
       "      <td>0.809327</td>\n",
       "      <td>0.303520</td>\n",
       "      <td>...</td>\n",
       "      <td>0.799748</td>\n",
       "      <td>0.001959</td>\n",
       "      <td>0.623931</td>\n",
       "      <td>0.598306</td>\n",
       "      <td>0.840306</td>\n",
       "      <td>0.278132</td>\n",
       "      <td>0.027009</td>\n",
       "      <td>0.566018</td>\n",
       "      <td>1</td>\n",
       "      <td>0.038284</td>\n",
       "    </tr>\n",
       "    <tr>\n",
       "      <th>6816</th>\n",
       "      <td>0</td>\n",
       "      <td>0.472725</td>\n",
       "      <td>0.533744</td>\n",
       "      <td>0.520638</td>\n",
       "      <td>0.610444</td>\n",
       "      <td>0.610213</td>\n",
       "      <td>0.998984</td>\n",
       "      <td>0.797401</td>\n",
       "      <td>0.809317</td>\n",
       "      <td>0.303512</td>\n",
       "      <td>...</td>\n",
       "      <td>0.797778</td>\n",
       "      <td>0.002840</td>\n",
       "      <td>0.624156</td>\n",
       "      <td>0.610441</td>\n",
       "      <td>0.840138</td>\n",
       "      <td>0.275789</td>\n",
       "      <td>0.026791</td>\n",
       "      <td>0.565158</td>\n",
       "      <td>1</td>\n",
       "      <td>0.097649</td>\n",
       "    </tr>\n",
       "    <tr>\n",
       "      <th>6817</th>\n",
       "      <td>0</td>\n",
       "      <td>0.506264</td>\n",
       "      <td>0.559911</td>\n",
       "      <td>0.554045</td>\n",
       "      <td>0.607850</td>\n",
       "      <td>0.607850</td>\n",
       "      <td>0.999074</td>\n",
       "      <td>0.797500</td>\n",
       "      <td>0.809399</td>\n",
       "      <td>0.303498</td>\n",
       "      <td>...</td>\n",
       "      <td>0.811808</td>\n",
       "      <td>0.002837</td>\n",
       "      <td>0.623957</td>\n",
       "      <td>0.607846</td>\n",
       "      <td>0.841084</td>\n",
       "      <td>0.277547</td>\n",
       "      <td>0.026822</td>\n",
       "      <td>0.565302</td>\n",
       "      <td>1</td>\n",
       "      <td>0.044009</td>\n",
       "    </tr>\n",
       "    <tr>\n",
       "      <th>6818</th>\n",
       "      <td>0</td>\n",
       "      <td>0.493053</td>\n",
       "      <td>0.570105</td>\n",
       "      <td>0.549548</td>\n",
       "      <td>0.627409</td>\n",
       "      <td>0.627409</td>\n",
       "      <td>0.998080</td>\n",
       "      <td>0.801987</td>\n",
       "      <td>0.813800</td>\n",
       "      <td>0.313415</td>\n",
       "      <td>...</td>\n",
       "      <td>0.815956</td>\n",
       "      <td>0.000707</td>\n",
       "      <td>0.626680</td>\n",
       "      <td>0.627408</td>\n",
       "      <td>0.841019</td>\n",
       "      <td>0.275114</td>\n",
       "      <td>0.026793</td>\n",
       "      <td>0.565167</td>\n",
       "      <td>1</td>\n",
       "      <td>0.233902</td>\n",
       "    </tr>\n",
       "  </tbody>\n",
       "</table>\n",
       "<p>6819 rows × 96 columns</p>\n",
       "</div>"
      ],
      "text/plain": [
       "      Bankrupt?   ROA(C) before interest and depreciation before interest   \n",
       "0             1                                           0.370594         \\\n",
       "1             1                                           0.464291          \n",
       "2             1                                           0.426071          \n",
       "3             1                                           0.399844          \n",
       "4             1                                           0.465022          \n",
       "...         ...                                                ...          \n",
       "6814          0                                           0.493687          \n",
       "6815          0                                           0.475162          \n",
       "6816          0                                           0.472725          \n",
       "6817          0                                           0.506264          \n",
       "6818          0                                           0.493053          \n",
       "\n",
       "       ROA(A) before interest and % after tax   \n",
       "0                                    0.424389  \\\n",
       "1                                    0.538214   \n",
       "2                                    0.499019   \n",
       "3                                    0.451265   \n",
       "4                                    0.538432   \n",
       "...                                       ...   \n",
       "6814                                 0.539468   \n",
       "6815                                 0.538269   \n",
       "6816                                 0.533744   \n",
       "6817                                 0.559911   \n",
       "6818                                 0.570105   \n",
       "\n",
       "       ROA(B) before interest and depreciation after tax   \n",
       "0                                              0.405750   \\\n",
       "1                                              0.516730    \n",
       "2                                              0.472295    \n",
       "3                                              0.457733    \n",
       "4                                              0.522298    \n",
       "...                                                 ...    \n",
       "6814                                           0.543230    \n",
       "6815                                           0.524172    \n",
       "6816                                           0.520638    \n",
       "6817                                           0.554045    \n",
       "6818                                           0.549548    \n",
       "\n",
       "       Operating Gross Margin   Realized Sales Gross Margin   \n",
       "0                    0.601457                      0.601457  \\\n",
       "1                    0.610235                      0.610235   \n",
       "2                    0.601450                      0.601364   \n",
       "3                    0.583541                      0.583541   \n",
       "4                    0.598783                      0.598783   \n",
       "...                       ...                           ...   \n",
       "6814                 0.604455                      0.604462   \n",
       "6815                 0.598308                      0.598308   \n",
       "6816                 0.610444                      0.610213   \n",
       "6817                 0.607850                      0.607850   \n",
       "6818                 0.627409                      0.627409   \n",
       "\n",
       "       Operating Profit Rate   Pre-tax net Interest Rate   \n",
       "0                   0.998969                    0.796887  \\\n",
       "1                   0.998946                    0.797380   \n",
       "2                   0.998857                    0.796403   \n",
       "3                   0.998700                    0.796967   \n",
       "4                   0.998973                    0.797366   \n",
       "...                      ...                         ...   \n",
       "6814                0.998992                    0.797409   \n",
       "6815                0.998992                    0.797414   \n",
       "6816                0.998984                    0.797401   \n",
       "6817                0.999074                    0.797500   \n",
       "6818                0.998080                    0.801987   \n",
       "\n",
       "       After-tax net Interest Rate   \n",
       "0                         0.808809  \\\n",
       "1                         0.809301   \n",
       "2                         0.808388   \n",
       "3                         0.808966   \n",
       "4                         0.809304   \n",
       "...                            ...   \n",
       "6814                      0.809331   \n",
       "6815                      0.809327   \n",
       "6816                      0.809317   \n",
       "6817                      0.809399   \n",
       "6818                      0.813800   \n",
       "\n",
       "       Non-industry income and expenditure/revenue  ...   \n",
       "0                                         0.302646  ...  \\\n",
       "1                                         0.303556  ...   \n",
       "2                                         0.302035  ...   \n",
       "3                                         0.303350  ...   \n",
       "4                                         0.303475  ...   \n",
       "...                                            ...  ...   \n",
       "6814                                      0.303510  ...   \n",
       "6815                                      0.303520  ...   \n",
       "6816                                      0.303512  ...   \n",
       "6817                                      0.303498  ...   \n",
       "6818                                      0.313415  ...   \n",
       "\n",
       "       Net Income to Total Assets   Total assets to GNP price   \n",
       "0                        0.716845                    0.009219  \\\n",
       "1                        0.795297                    0.008323   \n",
       "2                        0.774670                    0.040003   \n",
       "3                        0.739555                    0.003252   \n",
       "4                        0.795016                    0.003878   \n",
       "...                           ...                         ...   \n",
       "6814                     0.799927                    0.000466   \n",
       "6815                     0.799748                    0.001959   \n",
       "6816                     0.797778                    0.002840   \n",
       "6817                     0.811808                    0.002837   \n",
       "6818                     0.815956                    0.000707   \n",
       "\n",
       "       No-credit Interval   Gross Profit to Sales   \n",
       "0                0.622879                0.601453  \\\n",
       "1                0.623652                0.610237   \n",
       "2                0.623841                0.601449   \n",
       "3                0.622929                0.583538   \n",
       "4                0.623521                0.598782   \n",
       "...                   ...                     ...   \n",
       "6814             0.623620                0.604455   \n",
       "6815             0.623931                0.598306   \n",
       "6816             0.624156                0.610441   \n",
       "6817             0.623957                0.607846   \n",
       "6818             0.626680                0.627408   \n",
       "\n",
       "       Net Income to Stockholder's Equity   Liability to Equity   \n",
       "0                                0.827890              0.290202  \\\n",
       "1                                0.839969              0.283846   \n",
       "2                                0.836774              0.290189   \n",
       "3                                0.834697              0.281721   \n",
       "4                                0.839973              0.278514   \n",
       "...                                   ...                   ...   \n",
       "6814                             0.840359              0.279606   \n",
       "6815                             0.840306              0.278132   \n",
       "6816                             0.840138              0.275789   \n",
       "6817                             0.841084              0.277547   \n",
       "6818                             0.841019              0.275114   \n",
       "\n",
       "       Degree of Financial Leverage (DFL)   \n",
       "0                                0.026601  \\\n",
       "1                                0.264577   \n",
       "2                                0.026555   \n",
       "3                                0.026697   \n",
       "4                                0.024752   \n",
       "...                                   ...   \n",
       "6814                             0.027064   \n",
       "6815                             0.027009   \n",
       "6816                             0.026791   \n",
       "6817                             0.026822   \n",
       "6818                             0.026793   \n",
       "\n",
       "       Interest Coverage Ratio (Interest expense to EBIT)   Net Income Flag   \n",
       "0                                              0.564050                   1  \\\n",
       "1                                              0.570175                   1   \n",
       "2                                              0.563706                   1   \n",
       "3                                              0.564663                   1   \n",
       "4                                              0.575617                   1   \n",
       "...                                                 ...                 ...   \n",
       "6814                                           0.566193                   1   \n",
       "6815                                           0.566018                   1   \n",
       "6816                                           0.565158                   1   \n",
       "6817                                           0.565302                   1   \n",
       "6818                                           0.565167                   1   \n",
       "\n",
       "       Equity to Liability  \n",
       "0                 0.016469  \n",
       "1                 0.020794  \n",
       "2                 0.016474  \n",
       "3                 0.023982  \n",
       "4                 0.035490  \n",
       "...                    ...  \n",
       "6814              0.029890  \n",
       "6815              0.038284  \n",
       "6816              0.097649  \n",
       "6817              0.044009  \n",
       "6818              0.233902  \n",
       "\n",
       "[6819 rows x 96 columns]"
      ]
     },
     "execution_count": 6,
     "metadata": {},
     "output_type": "execute_result"
    }
   ],
   "source": [
    "# Dataset First Look\n",
    "df"
   ]
  },
  {
   "cell_type": "markdown",
   "metadata": {
    "id": "7hBIi_osiCS2"
   },
   "source": [
    "### Dataset Rows & Columns count"
   ]
  },
  {
   "cell_type": "code",
   "execution_count": 8,
   "metadata": {
    "id": "Kllu7SJgmLij"
   },
   "outputs": [
    {
     "data": {
      "text/plain": [
       "(6819, 96)"
      ]
     },
     "execution_count": 8,
     "metadata": {},
     "output_type": "execute_result"
    }
   ],
   "source": [
    "# Dataset Rows & Columns count\n",
    "df.shape"
   ]
  },
  {
   "cell_type": "markdown",
   "metadata": {
    "id": "JlHwYmJAmNHm"
   },
   "source": [
    "### Dataset Information"
   ]
  },
  {
   "cell_type": "code",
   "execution_count": 10,
   "metadata": {
    "id": "e9hRXRi6meOf"
   },
   "outputs": [
    {
     "name": "stdout",
     "output_type": "stream",
     "text": [
      "<class 'pandas.core.frame.DataFrame'>\n",
      "RangeIndex: 6819 entries, 0 to 6818\n",
      "Data columns (total 96 columns):\n",
      " #   Column                                                    Non-Null Count  Dtype  \n",
      "---  ------                                                    --------------  -----  \n",
      " 0   Bankrupt?                                                 6819 non-null   int64  \n",
      " 1    ROA(C) before interest and depreciation before interest  6819 non-null   float64\n",
      " 2    ROA(A) before interest and % after tax                   6819 non-null   float64\n",
      " 3    ROA(B) before interest and depreciation after tax        6819 non-null   float64\n",
      " 4    Operating Gross Margin                                   6819 non-null   float64\n",
      " 5    Realized Sales Gross Margin                              6819 non-null   float64\n",
      " 6    Operating Profit Rate                                    6819 non-null   float64\n",
      " 7    Pre-tax net Interest Rate                                6819 non-null   float64\n",
      " 8    After-tax net Interest Rate                              6819 non-null   float64\n",
      " 9    Non-industry income and expenditure/revenue              6819 non-null   float64\n",
      " 10   Continuous interest rate (after tax)                     6819 non-null   float64\n",
      " 11   Operating Expense Rate                                   6819 non-null   float64\n",
      " 12   Research and development expense rate                    6819 non-null   float64\n",
      " 13   Cash flow rate                                           6819 non-null   float64\n",
      " 14   Interest-bearing debt interest rate                      6819 non-null   float64\n",
      " 15   Tax rate (A)                                             6819 non-null   float64\n",
      " 16   Net Value Per Share (B)                                  6819 non-null   float64\n",
      " 17   Net Value Per Share (A)                                  6819 non-null   float64\n",
      " 18   Net Value Per Share (C)                                  6819 non-null   float64\n",
      " 19   Persistent EPS in the Last Four Seasons                  6819 non-null   float64\n",
      " 20   Cash Flow Per Share                                      6819 non-null   float64\n",
      " 21   Revenue Per Share (Yuan ¥)                               6819 non-null   float64\n",
      " 22   Operating Profit Per Share (Yuan ¥)                      6819 non-null   float64\n",
      " 23   Per Share Net profit before tax (Yuan ¥)                 6819 non-null   float64\n",
      " 24   Realized Sales Gross Profit Growth Rate                  6819 non-null   float64\n",
      " 25   Operating Profit Growth Rate                             6819 non-null   float64\n",
      " 26   After-tax Net Profit Growth Rate                         6819 non-null   float64\n",
      " 27   Regular Net Profit Growth Rate                           6819 non-null   float64\n",
      " 28   Continuous Net Profit Growth Rate                        6819 non-null   float64\n",
      " 29   Total Asset Growth Rate                                  6819 non-null   float64\n",
      " 30   Net Value Growth Rate                                    6819 non-null   float64\n",
      " 31   Total Asset Return Growth Rate Ratio                     6819 non-null   float64\n",
      " 32   Cash Reinvestment %                                      6819 non-null   float64\n",
      " 33   Current Ratio                                            6819 non-null   float64\n",
      " 34   Quick Ratio                                              6819 non-null   float64\n",
      " 35   Interest Expense Ratio                                   6819 non-null   float64\n",
      " 36   Total debt/Total net worth                               6819 non-null   float64\n",
      " 37   Debt ratio %                                             6819 non-null   float64\n",
      " 38   Net worth/Assets                                         6819 non-null   float64\n",
      " 39   Long-term fund suitability ratio (A)                     6819 non-null   float64\n",
      " 40   Borrowing dependency                                     6819 non-null   float64\n",
      " 41   Contingent liabilities/Net worth                         6819 non-null   float64\n",
      " 42   Operating profit/Paid-in capital                         6819 non-null   float64\n",
      " 43   Net profit before tax/Paid-in capital                    6819 non-null   float64\n",
      " 44   Inventory and accounts receivable/Net value              6819 non-null   float64\n",
      " 45   Total Asset Turnover                                     6819 non-null   float64\n",
      " 46   Accounts Receivable Turnover                             6819 non-null   float64\n",
      " 47   Average Collection Days                                  6819 non-null   float64\n",
      " 48   Inventory Turnover Rate (times)                          6819 non-null   float64\n",
      " 49   Fixed Assets Turnover Frequency                          6819 non-null   float64\n",
      " 50   Net Worth Turnover Rate (times)                          6819 non-null   float64\n",
      " 51   Revenue per person                                       6819 non-null   float64\n",
      " 52   Operating profit per person                              6819 non-null   float64\n",
      " 53   Allocation rate per person                               6819 non-null   float64\n",
      " 54   Working Capital to Total Assets                          6819 non-null   float64\n",
      " 55   Quick Assets/Total Assets                                6819 non-null   float64\n",
      " 56   Current Assets/Total Assets                              6819 non-null   float64\n",
      " 57   Cash/Total Assets                                        6819 non-null   float64\n",
      " 58   Quick Assets/Current Liability                           6819 non-null   float64\n",
      " 59   Cash/Current Liability                                   6819 non-null   float64\n",
      " 60   Current Liability to Assets                              6819 non-null   float64\n",
      " 61   Operating Funds to Liability                             6819 non-null   float64\n",
      " 62   Inventory/Working Capital                                6819 non-null   float64\n",
      " 63   Inventory/Current Liability                              6819 non-null   float64\n",
      " 64   Current Liabilities/Liability                            6819 non-null   float64\n",
      " 65   Working Capital/Equity                                   6819 non-null   float64\n",
      " 66   Current Liabilities/Equity                               6819 non-null   float64\n",
      " 67   Long-term Liability to Current Assets                    6819 non-null   float64\n",
      " 68   Retained Earnings to Total Assets                        6819 non-null   float64\n",
      " 69   Total income/Total expense                               6819 non-null   float64\n",
      " 70   Total expense/Assets                                     6819 non-null   float64\n",
      " 71   Current Asset Turnover Rate                              6819 non-null   float64\n",
      " 72   Quick Asset Turnover Rate                                6819 non-null   float64\n",
      " 73   Working capitcal Turnover Rate                           6819 non-null   float64\n",
      " 74   Cash Turnover Rate                                       6819 non-null   float64\n",
      " 75   Cash Flow to Sales                                       6819 non-null   float64\n",
      " 76   Fixed Assets to Assets                                   6819 non-null   float64\n",
      " 77   Current Liability to Liability                           6819 non-null   float64\n",
      " 78   Current Liability to Equity                              6819 non-null   float64\n",
      " 79   Equity to Long-term Liability                            6819 non-null   float64\n",
      " 80   Cash Flow to Total Assets                                6819 non-null   float64\n",
      " 81   Cash Flow to Liability                                   6819 non-null   float64\n",
      " 82   CFO to Assets                                            6819 non-null   float64\n",
      " 83   Cash Flow to Equity                                      6819 non-null   float64\n",
      " 84   Current Liability to Current Assets                      6819 non-null   float64\n",
      " 85   Liability-Assets Flag                                    6819 non-null   int64  \n",
      " 86   Net Income to Total Assets                               6819 non-null   float64\n",
      " 87   Total assets to GNP price                                6819 non-null   float64\n",
      " 88   No-credit Interval                                       6819 non-null   float64\n",
      " 89   Gross Profit to Sales                                    6819 non-null   float64\n",
      " 90   Net Income to Stockholder's Equity                       6819 non-null   float64\n",
      " 91   Liability to Equity                                      6819 non-null   float64\n",
      " 92   Degree of Financial Leverage (DFL)                       6819 non-null   float64\n",
      " 93   Interest Coverage Ratio (Interest expense to EBIT)       6819 non-null   float64\n",
      " 94   Net Income Flag                                          6819 non-null   int64  \n",
      " 95   Equity to Liability                                      6819 non-null   float64\n",
      "dtypes: float64(93), int64(3)\n",
      "memory usage: 5.0 MB\n"
     ]
    }
   ],
   "source": [
    "# Dataset Info\n",
    "df.info()"
   ]
  },
  {
   "cell_type": "markdown",
   "metadata": {
    "id": "35m5QtbWiB9F"
   },
   "source": [
    "#### Duplicate Values"
   ]
  },
  {
   "cell_type": "code",
   "execution_count": null,
   "metadata": {
    "id": "1sLdpKYkmox0"
   },
   "outputs": [],
   "source": [
    "# Dataset Duplicate Value Count\n",
    "len(df[df.duplicated()])"
   ]
  },
  {
   "cell_type": "markdown",
   "metadata": {
    "id": "PoPl-ycgm1ru"
   },
   "source": [
    "#### Missing Values/Null Values"
   ]
  },
  {
   "cell_type": "code",
   "execution_count": 11,
   "metadata": {
    "id": "GgHWkxvamxVg"
   },
   "outputs": [
    {
     "data": {
      "text/plain": [
       "Bankrupt?                                                   0\n",
       " ROA(C) before interest and depreciation before interest    0\n",
       " ROA(A) before interest and % after tax                     0\n",
       " ROA(B) before interest and depreciation after tax          0\n",
       " Operating Gross Margin                                     0\n",
       "                                                           ..\n",
       " Liability to Equity                                        0\n",
       " Degree of Financial Leverage (DFL)                         0\n",
       " Interest Coverage Ratio (Interest expense to EBIT)         0\n",
       " Net Income Flag                                            0\n",
       " Equity to Liability                                        0\n",
       "Length: 96, dtype: int64"
      ]
     },
     "execution_count": 11,
     "metadata": {},
     "output_type": "execute_result"
    }
   ],
   "source": [
    "# Missing Values/Null Values Count\n",
    "\n",
    "df.isnull().sum()"
   ]
  },
  {
   "cell_type": "code",
   "execution_count": 12,
   "metadata": {
    "id": "3q5wnI3om9sJ"
   },
   "outputs": [
    {
     "data": {
      "text/plain": [
       "<Axes: >"
      ]
     },
     "execution_count": 12,
     "metadata": {},
     "output_type": "execute_result"
    },
    {
     "data": {
      "image/png": "[encoded data removed]",
      "text/plain": [
       "<Figure size 640x480 with 1 Axes>"
      ]
     },
     "metadata": {},
     "output_type": "display_data"
    }
   ],
   "source": [
    "# Visualizing the missing values\n",
    "\n",
    "sns.heatmap(df.isnull(), cmap='viridis', cbar=False, yticklabels=False)"
   ]
  },
  {
   "cell_type": "markdown",
   "metadata": {
    "id": "H0kj-8xxnORC"
   },
   "source": [
    "### What did you know about your dataset?"
   ]
  },
  {
   "cell_type": "markdown",
   "metadata": {
    "id": "gfoNAAC-nUe_"
   },
   "source": [
    "Answer Here\n",
    "\n",
    "there is no null values in dataset"
   ]
  },
  {
   "cell_type": "markdown",
   "metadata": {
    "id": "nA9Y7ga8ng1Z"
   },
   "source": [
    "## ***2. Understanding Your Variables***"
   ]
  },
  {
   "cell_type": "raw",
   "metadata": {
    "id": "j7xfkqrt5Ag5"
   },
   "source": [
    "# Dataset Columns\n",
    "\n",
    "Bankrupt?: Class label 1 : Yes , 0: No\n",
    "ROA(C) before interest and depreciation before interest: Return On Total Assets(C)\n",
    "ROA(A) before interest and % after tax: Return On Total Assets(A)\n",
    "ROA(B) before interest and depreciation after tax: Return On Total Assets(B)\n",
    "Operating Gross Margin: Gross Profit/Net Sales\n",
    "Realized Sales Gross Margin: Realized Gross Profit/Net Sales\n",
    "Operating Profit Rate: Operating Income/Net Sales\n",
    "Pre-tax net Interest Rate: Pre-Tax Income/Net Sales\n",
    "After-tax net Interest Rate: Net Income/Net Sales\n",
    "Non-industry income and expenditure/revenue: Net Non-operating Income Ratio\n",
    "Continuous interest rate (after tax): Net Income-Exclude Disposal Gain or Loss/Net Sales\n",
    "Operating Expense Rate: Operating Expenses/Net Sales\n",
    "Research and development expense rate: (Research and Development Expenses)/Net Sales\n",
    "Cash flow rate: Cash Flow from Operating/Current Liabilities\n",
    "Interest-bearing debt interest rate: Interest-bearing Debt/Equity\n",
    "Tax rate (A): Effective Tax Rate\n",
    "Net Value Per Share (B): Book Value Per Share(B)\n",
    "Net Value Per Share (A): Book Value Per Share(A)\n",
    "Net Value Per Share (C): Book Value Per Share(C)\n",
    "Persistent EPS in the Last Four Seasons: EPS-Net Income\n",
    "Cash Flow Per Share\n",
    "Revenue Per Share (Yuan ¥): Sales Per Share\n",
    "Operating Profit Per Share (Yuan ¥): Operating Income Per Share\n",
    "Per Share Net profit before tax (Yuan ¥): Pretax Income Per Share\n",
    "Realized Sales Gross Profit Growth Rate\n",
    "Operating Profit Growth Rate: Operating Income Growth\n",
    "After-tax Net Profit Growth Rate: Net Income Growth\n",
    "Regular Net Profit Growth Rate: Continuing Operating Income after Tax Growth\n",
    "Continuous Net Profit Growth Rate: Net Income-Excluding Disposal Gain or Loss Growth\n",
    "Total Asset Growth Rate: Total Asset Growth\n",
    "Net Value Growth Rate: Total Equity Growth\n",
    "Total Asset Return Growth Rate Ratio: Return on Total Asset Growth\n",
    "Cash Reinvestment %: Cash Reinvestment Ratio\n",
    "Current Ratio\n",
    "Quick Ratio: Acid Test\n",
    "Interest Expense Ratio: Interest Expenses/Total Revenue\n",
    "Total debt/Total net worth: Total Liability/Equity Ratio\n",
    "Debt ratio %: Liability/Total Assets\n",
    "Net worth/Assets: Equity/Total Assets\n",
    "Long-term fund suitability ratio (A): (Long-term Liability+Equity)/Fixed Assets\n",
    "Borrowing dependency: Cost of Interest-bearing Debt\n",
    "Contingent liabilities/Net worth: Contingent Liability/Equity\n",
    "Operating profit/Paid-in capital: Operating Income/Capital\n",
    "Net profit before tax/Paid-in capital: Pretax Income/Capital\n",
    "Inventory and accounts receivable/Net value: (Inventory+Accounts Receivables)/Equity\n",
    "Total Asset Turnover\n",
    "Accounts Receivable Turnover\n",
    "Average Collection Days: Days Receivable Outstanding\n",
    "Inventory Turnover Rate (times)\n",
    "Fixed Assets Turnover Frequency\n",
    "Net Worth Turnover Rate (times): Equity Turnover\n",
    "Revenue per person: Sales Per Employee\n",
    "Operating profit per person: Operation Income Per Employee\n",
    "Allocation rate per person: Fixed Assets Per Employee\n",
    "Working Capital to Total Assets\n",
    "Quick Assets/Total Assets\n",
    "Current Assets/Total Assets\n",
    "Cash/Total Assets\n",
    "Quick Assets/Current Liability\n",
    "Cash/Current Liability\n",
    "Current Liability to Assets\n",
    "Operating Funds to Liability\n",
    "Inventory/Working Capital\n",
    "Inventory/Current Liability\n",
    "Current Liabilities/Liability\n",
    "Working Capital/Equity\n",
    "Current Liabilities/Equity\n",
    "Long-term Liability to Current Assets\n",
    "Retained Earnings to Total Assets\n",
    "Total income/Total expense\n",
    "Total expense/Assets\n",
    "Current Asset Turnover Rate: Current Assets to Sales\n",
    "Quick Asset Turnover Rate: Quick Assets to Sales\n",
    "Working capitcal Turnover Rate: Working Capital to Sales\n",
    "Cash Turnover Rate: Cash to Sales\n",
    "Cash Flow to Sales\n",
    "Fixed Assets to Assets\n",
    "Current Liability to Liability\n",
    "Current Liability to Equity\n",
    "Equity to Long-term Liability\n",
    "Cash Flow to Total Assets\n",
    "Cash Flow to Liability\n",
    "CFO to Assets\n",
    "Cash Flow to Equity\n",
    "Current Liability to Current Assets\n",
    "Liability-Assets Flag: 1 if Total Liability exceeds Total Assets, 0 otherwise\n",
    "Net Income to Total Assets\n",
    "Total assets to GNP price\n",
    "No-credit Interval\n",
    "Gross Profit to Sales\n",
    "Net Income to Stockholder's Equity\n",
    "Liability to Equity\n",
    "Degree of Financial Leverage (DFL)\n",
    "Interest Coverage Ratio (Interest expense to EBIT)\n",
    "Net Income Flag: 1 if Net Income is Negative for the last two years, 0 otherwise\n",
    "Equity to Liability"
   ]
  },
  {
   "cell_type": "code",
   "execution_count": 15,
   "metadata": {
    "id": "DnOaZdaE5Q5t"
   },
   "outputs": [
    {
     "data": {
      "text/html": [
       "<div>\n",
       "<style scoped>\n",
       "    .dataframe tbody tr th:only-of-type {\n",
       "        vertical-align: middle;\n",
       "    }\n",
       "\n",
       "    .dataframe tbody tr th {\n",
       "        vertical-align: top;\n",
       "    }\n",
       "\n",
       "    .dataframe thead th {\n",
       "        text-align: right;\n",
       "    }\n",
       "</style>\n",
       "<table border=\"1\" class=\"dataframe\">\n",
       "  <thead>\n",
       "    <tr style=\"text-align: right;\">\n",
       "      <th></th>\n",
       "      <th>Bankrupt?</th>\n",
       "      <th>ROA(C) before interest and depreciation before interest</th>\n",
       "      <th>ROA(A) before interest and % after tax</th>\n",
       "      <th>ROA(B) before interest and depreciation after tax</th>\n",
       "      <th>Operating Gross Margin</th>\n",
       "      <th>Realized Sales Gross Margin</th>\n",
       "      <th>Operating Profit Rate</th>\n",
       "      <th>Pre-tax net Interest Rate</th>\n",
       "      <th>After-tax net Interest Rate</th>\n",
       "      <th>Non-industry income and expenditure/revenue</th>\n",
       "      <th>...</th>\n",
       "      <th>Net Income to Total Assets</th>\n",
       "      <th>Total assets to GNP price</th>\n",
       "      <th>No-credit Interval</th>\n",
       "      <th>Gross Profit to Sales</th>\n",
       "      <th>Net Income to Stockholder's Equity</th>\n",
       "      <th>Liability to Equity</th>\n",
       "      <th>Degree of Financial Leverage (DFL)</th>\n",
       "      <th>Interest Coverage Ratio (Interest expense to EBIT)</th>\n",
       "      <th>Net Income Flag</th>\n",
       "      <th>Equity to Liability</th>\n",
       "    </tr>\n",
       "  </thead>\n",
       "  <tbody>\n",
       "    <tr>\n",
       "      <th>count</th>\n",
       "      <td>6819.000000</td>\n",
       "      <td>6819.000000</td>\n",
       "      <td>6819.000000</td>\n",
       "      <td>6819.000000</td>\n",
       "      <td>6819.000000</td>\n",
       "      <td>6819.000000</td>\n",
       "      <td>6819.000000</td>\n",
       "      <td>6819.000000</td>\n",
       "      <td>6819.000000</td>\n",
       "      <td>6819.000000</td>\n",
       "      <td>...</td>\n",
       "      <td>6819.000000</td>\n",
       "      <td>6.819000e+03</td>\n",
       "      <td>6819.000000</td>\n",
       "      <td>6819.000000</td>\n",
       "      <td>6819.000000</td>\n",
       "      <td>6819.000000</td>\n",
       "      <td>6819.000000</td>\n",
       "      <td>6819.000000</td>\n",
       "      <td>6819.0</td>\n",
       "      <td>6819.000000</td>\n",
       "    </tr>\n",
       "    <tr>\n",
       "      <th>mean</th>\n",
       "      <td>0.032263</td>\n",
       "      <td>0.505180</td>\n",
       "      <td>0.558625</td>\n",
       "      <td>0.553589</td>\n",
       "      <td>0.607948</td>\n",
       "      <td>0.607929</td>\n",
       "      <td>0.998755</td>\n",
       "      <td>0.797190</td>\n",
       "      <td>0.809084</td>\n",
       "      <td>0.303623</td>\n",
       "      <td>...</td>\n",
       "      <td>0.807760</td>\n",
       "      <td>1.862942e+07</td>\n",
       "      <td>0.623915</td>\n",
       "      <td>0.607946</td>\n",
       "      <td>0.840402</td>\n",
       "      <td>0.280365</td>\n",
       "      <td>0.027541</td>\n",
       "      <td>0.565358</td>\n",
       "      <td>1.0</td>\n",
       "      <td>0.047578</td>\n",
       "    </tr>\n",
       "    <tr>\n",
       "      <th>std</th>\n",
       "      <td>0.176710</td>\n",
       "      <td>0.060686</td>\n",
       "      <td>0.065620</td>\n",
       "      <td>0.061595</td>\n",
       "      <td>0.016934</td>\n",
       "      <td>0.016916</td>\n",
       "      <td>0.013010</td>\n",
       "      <td>0.012869</td>\n",
       "      <td>0.013601</td>\n",
       "      <td>0.011163</td>\n",
       "      <td>...</td>\n",
       "      <td>0.040332</td>\n",
       "      <td>3.764501e+08</td>\n",
       "      <td>0.012290</td>\n",
       "      <td>0.016934</td>\n",
       "      <td>0.014523</td>\n",
       "      <td>0.014463</td>\n",
       "      <td>0.015668</td>\n",
       "      <td>0.013214</td>\n",
       "      <td>0.0</td>\n",
       "      <td>0.050014</td>\n",
       "    </tr>\n",
       "    <tr>\n",
       "      <th>min</th>\n",
       "      <td>0.000000</td>\n",
       "      <td>0.000000</td>\n",
       "      <td>0.000000</td>\n",
       "      <td>0.000000</td>\n",
       "      <td>0.000000</td>\n",
       "      <td>0.000000</td>\n",
       "      <td>0.000000</td>\n",
       "      <td>0.000000</td>\n",
       "      <td>0.000000</td>\n",
       "      <td>0.000000</td>\n",
       "      <td>...</td>\n",
       "      <td>0.000000</td>\n",
       "      <td>0.000000e+00</td>\n",
       "      <td>0.000000</td>\n",
       "      <td>0.000000</td>\n",
       "      <td>0.000000</td>\n",
       "      <td>0.000000</td>\n",
       "      <td>0.000000</td>\n",
       "      <td>0.000000</td>\n",
       "      <td>1.0</td>\n",
       "      <td>0.000000</td>\n",
       "    </tr>\n",
       "    <tr>\n",
       "      <th>25%</th>\n",
       "      <td>0.000000</td>\n",
       "      <td>0.476527</td>\n",
       "      <td>0.535543</td>\n",
       "      <td>0.527277</td>\n",
       "      <td>0.600445</td>\n",
       "      <td>0.600434</td>\n",
       "      <td>0.998969</td>\n",
       "      <td>0.797386</td>\n",
       "      <td>0.809312</td>\n",
       "      <td>0.303466</td>\n",
       "      <td>...</td>\n",
       "      <td>0.796750</td>\n",
       "      <td>9.036205e-04</td>\n",
       "      <td>0.623636</td>\n",
       "      <td>0.600443</td>\n",
       "      <td>0.840115</td>\n",
       "      <td>0.276944</td>\n",
       "      <td>0.026791</td>\n",
       "      <td>0.565158</td>\n",
       "      <td>1.0</td>\n",
       "      <td>0.024477</td>\n",
       "    </tr>\n",
       "    <tr>\n",
       "      <th>50%</th>\n",
       "      <td>0.000000</td>\n",
       "      <td>0.502706</td>\n",
       "      <td>0.559802</td>\n",
       "      <td>0.552278</td>\n",
       "      <td>0.605997</td>\n",
       "      <td>0.605976</td>\n",
       "      <td>0.999022</td>\n",
       "      <td>0.797464</td>\n",
       "      <td>0.809375</td>\n",
       "      <td>0.303525</td>\n",
       "      <td>...</td>\n",
       "      <td>0.810619</td>\n",
       "      <td>2.085213e-03</td>\n",
       "      <td>0.623879</td>\n",
       "      <td>0.605998</td>\n",
       "      <td>0.841179</td>\n",
       "      <td>0.278778</td>\n",
       "      <td>0.026808</td>\n",
       "      <td>0.565252</td>\n",
       "      <td>1.0</td>\n",
       "      <td>0.033798</td>\n",
       "    </tr>\n",
       "    <tr>\n",
       "      <th>75%</th>\n",
       "      <td>0.000000</td>\n",
       "      <td>0.535563</td>\n",
       "      <td>0.589157</td>\n",
       "      <td>0.584105</td>\n",
       "      <td>0.613914</td>\n",
       "      <td>0.613842</td>\n",
       "      <td>0.999095</td>\n",
       "      <td>0.797579</td>\n",
       "      <td>0.809469</td>\n",
       "      <td>0.303585</td>\n",
       "      <td>...</td>\n",
       "      <td>0.826455</td>\n",
       "      <td>5.269777e-03</td>\n",
       "      <td>0.624168</td>\n",
       "      <td>0.613913</td>\n",
       "      <td>0.842357</td>\n",
       "      <td>0.281449</td>\n",
       "      <td>0.026913</td>\n",
       "      <td>0.565725</td>\n",
       "      <td>1.0</td>\n",
       "      <td>0.052838</td>\n",
       "    </tr>\n",
       "    <tr>\n",
       "      <th>max</th>\n",
       "      <td>1.000000</td>\n",
       "      <td>1.000000</td>\n",
       "      <td>1.000000</td>\n",
       "      <td>1.000000</td>\n",
       "      <td>1.000000</td>\n",
       "      <td>1.000000</td>\n",
       "      <td>1.000000</td>\n",
       "      <td>1.000000</td>\n",
       "      <td>1.000000</td>\n",
       "      <td>1.000000</td>\n",
       "      <td>...</td>\n",
       "      <td>1.000000</td>\n",
       "      <td>9.820000e+09</td>\n",
       "      <td>1.000000</td>\n",
       "      <td>1.000000</td>\n",
       "      <td>1.000000</td>\n",
       "      <td>1.000000</td>\n",
       "      <td>1.000000</td>\n",
       "      <td>1.000000</td>\n",
       "      <td>1.0</td>\n",
       "      <td>1.000000</td>\n",
       "    </tr>\n",
       "  </tbody>\n",
       "</table>\n",
       "<p>8 rows × 96 columns</p>\n",
       "</div>"
      ],
      "text/plain": [
       "         Bankrupt?   ROA(C) before interest and depreciation before interest   \n",
       "count  6819.000000                                        6819.000000         \\\n",
       "mean      0.032263                                           0.505180          \n",
       "std       0.176710                                           0.060686          \n",
       "min       0.000000                                           0.000000          \n",
       "25%       0.000000                                           0.476527          \n",
       "50%       0.000000                                           0.502706          \n",
       "75%       0.000000                                           0.535563          \n",
       "max       1.000000                                           1.000000          \n",
       "\n",
       "        ROA(A) before interest and % after tax   \n",
       "count                              6819.000000  \\\n",
       "mean                                  0.558625   \n",
       "std                                   0.065620   \n",
       "min                                   0.000000   \n",
       "25%                                   0.535543   \n",
       "50%                                   0.559802   \n",
       "75%                                   0.589157   \n",
       "max                                   1.000000   \n",
       "\n",
       "        ROA(B) before interest and depreciation after tax   \n",
       "count                                        6819.000000   \\\n",
       "mean                                            0.553589    \n",
       "std                                             0.061595    \n",
       "min                                             0.000000    \n",
       "25%                                             0.527277    \n",
       "50%                                             0.552278    \n",
       "75%                                             0.584105    \n",
       "max                                             1.000000    \n",
       "\n",
       "        Operating Gross Margin   Realized Sales Gross Margin   \n",
       "count              6819.000000                   6819.000000  \\\n",
       "mean                  0.607948                      0.607929   \n",
       "std                   0.016934                      0.016916   \n",
       "min                   0.000000                      0.000000   \n",
       "25%                   0.600445                      0.600434   \n",
       "50%                   0.605997                      0.605976   \n",
       "75%                   0.613914                      0.613842   \n",
       "max                   1.000000                      1.000000   \n",
       "\n",
       "        Operating Profit Rate   Pre-tax net Interest Rate   \n",
       "count             6819.000000                 6819.000000  \\\n",
       "mean                 0.998755                    0.797190   \n",
       "std                  0.013010                    0.012869   \n",
       "min                  0.000000                    0.000000   \n",
       "25%                  0.998969                    0.797386   \n",
       "50%                  0.999022                    0.797464   \n",
       "75%                  0.999095                    0.797579   \n",
       "max                  1.000000                    1.000000   \n",
       "\n",
       "        After-tax net Interest Rate   \n",
       "count                   6819.000000  \\\n",
       "mean                       0.809084   \n",
       "std                        0.013601   \n",
       "min                        0.000000   \n",
       "25%                        0.809312   \n",
       "50%                        0.809375   \n",
       "75%                        0.809469   \n",
       "max                        1.000000   \n",
       "\n",
       "        Non-industry income and expenditure/revenue  ...   \n",
       "count                                   6819.000000  ...  \\\n",
       "mean                                       0.303623  ...   \n",
       "std                                        0.011163  ...   \n",
       "min                                        0.000000  ...   \n",
       "25%                                        0.303466  ...   \n",
       "50%                                        0.303525  ...   \n",
       "75%                                        0.303585  ...   \n",
       "max                                        1.000000  ...   \n",
       "\n",
       "        Net Income to Total Assets   Total assets to GNP price   \n",
       "count                  6819.000000                6.819000e+03  \\\n",
       "mean                      0.807760                1.862942e+07   \n",
       "std                       0.040332                3.764501e+08   \n",
       "min                       0.000000                0.000000e+00   \n",
       "25%                       0.796750                9.036205e-04   \n",
       "50%                       0.810619                2.085213e-03   \n",
       "75%                       0.826455                5.269777e-03   \n",
       "max                       1.000000                9.820000e+09   \n",
       "\n",
       "        No-credit Interval   Gross Profit to Sales   \n",
       "count          6819.000000             6819.000000  \\\n",
       "mean              0.623915                0.607946   \n",
       "std               0.012290                0.016934   \n",
       "min               0.000000                0.000000   \n",
       "25%               0.623636                0.600443   \n",
       "50%               0.623879                0.605998   \n",
       "75%               0.624168                0.613913   \n",
       "max               1.000000                1.000000   \n",
       "\n",
       "        Net Income to Stockholder's Equity   Liability to Equity   \n",
       "count                          6819.000000           6819.000000  \\\n",
       "mean                              0.840402              0.280365   \n",
       "std                               0.014523              0.014463   \n",
       "min                               0.000000              0.000000   \n",
       "25%                               0.840115              0.276944   \n",
       "50%                               0.841179              0.278778   \n",
       "75%                               0.842357              0.281449   \n",
       "max                               1.000000              1.000000   \n",
       "\n",
       "        Degree of Financial Leverage (DFL)   \n",
       "count                          6819.000000  \\\n",
       "mean                              0.027541   \n",
       "std                               0.015668   \n",
       "min                               0.000000   \n",
       "25%                               0.026791   \n",
       "50%                               0.026808   \n",
       "75%                               0.026913   \n",
       "max                               1.000000   \n",
       "\n",
       "        Interest Coverage Ratio (Interest expense to EBIT)   Net Income Flag   \n",
       "count                                        6819.000000              6819.0  \\\n",
       "mean                                            0.565358                 1.0   \n",
       "std                                             0.013214                 0.0   \n",
       "min                                             0.000000                 1.0   \n",
       "25%                                             0.565158                 1.0   \n",
       "50%                                             0.565252                 1.0   \n",
       "75%                                             0.565725                 1.0   \n",
       "max                                             1.000000                 1.0   \n",
       "\n",
       "        Equity to Liability  \n",
       "count           6819.000000  \n",
       "mean               0.047578  \n",
       "std                0.050014  \n",
       "min                0.000000  \n",
       "25%                0.024477  \n",
       "50%                0.033798  \n",
       "75%                0.052838  \n",
       "max                1.000000  \n",
       "\n",
       "[8 rows x 96 columns]"
      ]
     },
     "execution_count": 15,
     "metadata": {},
     "output_type": "execute_result"
    }
   ],
   "source": [
    "# Dataset Describe\n",
    "df.describe(include='all')"
   ]
  },
  {
   "cell_type": "markdown",
   "metadata": {
    "id": "PBTbrJXOngz2"
   },
   "source": [
    "### Variables Description "
   ]
  },
  {
   "cell_type": "markdown",
   "metadata": {
    "id": "aJV4KIxSnxay"
   },
   "source": [
    "Answer Here\n",
    "\n",
    "Bankrupt?: Binary label indicating whether the company went bankrupt (1) or not (0).\n",
    "\n",
    "ROA(C) before interest and depreciation before interest: Return on Assets (ROA) before interest and depreciation before interest.\n",
    "\n",
    "ROA(A) before interest and % after tax: Return on Assets (ROA) before interest and after tax.\n",
    "\n",
    "ROA(B) before interest and depreciation after tax: Return on Assets (ROA) before interest and depreciation after tax.\n",
    "\n",
    "Operating Gross Margin: Operating Gross Margin.\n",
    "\n",
    "Realized Sales Gross Margin: Realized Sales Gross Margin.\n",
    "\n",
    "Operating Profit Rate: Operating Profit Rate.\n",
    "\n",
    "Pre-tax net Interest Rate: Pre-tax net Interest Rate.\n",
    "\n",
    "After-tax net Interest Rate: After-tax net Interest Rate.\n",
    "\n",
    "Non-industry income and expenditure/revenue: Non-industry income and expenditure to revenue ratio.\n",
    "\n",
    "... (Columns 10 to 95): Additional financial and non-financial features. Please note that the specific details and names of these columns are not provided in the dataset.\n",
    "\n",
    "Net Income to Total Assets: Net Income to Total Assets ratio.\n",
    "\n",
    "Total assets to GNP price: Total assets to Gross National Product (GNP) price ratio.\n",
    "\n",
    "No-credit Interval: No-credit Interval.\n",
    "\n",
    "Gross Profit to Sales: Gross Profit to Sales ratio.\n",
    "\n",
    "Net Income to Stockholder's Equity: Net Income to Stockholder's Equity ratio.\n",
    "\n",
    "Liability to Equity: Liability to Equity ratio.\n",
    "\n",
    "Degree of Financial Leverage (DFL): Degree of Financial Leverage.\n",
    "\n",
    "Interest Coverage Ratio (Interest expense to EBIT): Interest Coverage Ratio.\n",
    "\n",
    "Net Income Flag: Binary flag indicating the presence of net income (1) or not (0).\n",
    "\n",
    "Equity to Liability: Equity to Liability ratio."
   ]
  },
  {
   "cell_type": "markdown",
   "metadata": {
    "id": "u3PMJOP6ngxN"
   },
   "source": [
    "### Check Unique Values for each variable."
   ]
  },
  {
   "cell_type": "code",
   "execution_count": 16,
   "metadata": {
    "id": "zms12Yq5n-jE"
   },
   "outputs": [
    {
     "name": "stdout",
     "output_type": "stream",
     "text": [
      "Column: Bankrupt?\n",
      "Unique Values: [1 0]\n",
      "--------\n",
      "Column:  ROA(C) before interest and depreciation before interest\n",
      "Unique Values: [0.37059426 0.46429094 0.42607127 ... 0.47433335 0.54789646 0.49953688]\n",
      "--------\n",
      "Column:  ROA(A) before interest and % after tax\n",
      "Unique Values: [0.42438945 0.53821413 0.49901875 ... 0.49329481 0.6067379  0.6480048 ]\n",
      "--------\n",
      "Column:  ROA(B) before interest and depreciation after tax\n",
      "Unique Values: [0.40574977 0.51673002 0.47229509 ... 0.63172547 0.52417153 0.52063815]\n",
      "--------\n",
      "Column:  Operating Gross Margin\n",
      "Unique Values: [0.60145721 0.61023509 0.60145001 ... 0.60445524 0.61044408 0.62740887]\n",
      "--------\n",
      "Column:  Realized Sales Gross Margin\n",
      "Unique Values: [0.60145721 0.61023509 0.60136352 ... 0.60601191 0.61316825 0.62740887]\n",
      "--------\n",
      "Column:  Operating Profit Rate\n",
      "Unique Values: [0.9989692  0.99894598 0.99885735 ... 0.998741   0.99917649 0.9980803 ]\n",
      "--------\n",
      "Column:  Pre-tax net Interest Rate\n",
      "Unique Values: [0.79688715 0.79738019 0.79640337 ... 0.79741851 0.79711845 0.80198665]\n",
      "--------\n",
      "Column:  After-tax net Interest Rate\n",
      "Unique Values: [0.80880936 0.80930073 0.80838752 ... 0.8090958  0.80960278 0.81379956]\n",
      "--------\n",
      "Column:  Non-industry income and expenditure/revenue\n",
      "Unique Values: [0.30264643 0.30355643 0.30203518 ... 0.30362    0.30378919 0.31341533]\n",
      "--------\n",
      "Column:  Continuous interest rate (after tax)\n",
      "Unique Values: [0.78098485 0.78150597 0.78028394 ... 0.78133854 0.7815464  0.78607904]\n",
      "--------\n",
      "Column:  Operating Expense Rate\n",
      "Unique Values: [0.0001257  0.00028979 0.00023613 ... 0.00028423 0.00025093 0.0014317 ]\n",
      "--------\n",
      "Column:  Research and development expense rate\n",
      "Unique Values: [0.00000000e+00 2.55000000e+07 7.30000000e+08 ... 8.98000000e+09\n",
      " 1.65710520e-04 3.68604037e-04]\n",
      "--------\n",
      "Column:  Cash flow rate\n",
      "Unique Values: [0.45814314 0.46186726 0.45852059 ... 0.46373435 0.4761229  0.42772116]\n",
      "--------\n",
      "Column:  Interest-bearing debt interest rate\n",
      "Unique Values: [7.25072507e-04 6.47064706e-04 7.90079008e-04 ... 1.04110411e-03\n",
      " 6.80000000e+08 8.82788279e-03]\n",
      "--------\n",
      "Column:  Tax rate (A)\n",
      "Unique Values: [0.         0.15760705 0.00587104 ... 0.1133718  0.37159632 0.49083915]\n",
      "--------\n",
      "Column:  Net Value Per Share (B)\n",
      "Unique Values: [0.14794994 0.18225106 0.17791075 ... 0.2308373  0.22224095 0.26952088]\n",
      "--------\n",
      "Column:  Net Value Per Share (A)\n",
      "Unique Values: [0.14794994 0.18225106 0.17791075 ... 0.2308373  0.22224095 0.26952088]\n",
      "--------\n",
      "Column:  Net Value Per Share (C)\n",
      "Unique Values: [0.14794994 0.18225106 0.19371287 ... 0.2308373  0.22224095 0.26952088]\n",
      "--------\n",
      "Column:  Persistent EPS in the Last Four Seasons\n",
      "Unique Values: [0.16914059 0.20894393 0.1805805  ... 0.34811383 0.16762787 0.3784627 ]\n",
      "--------\n",
      "Column:  Cash Flow Per Share\n",
      "Unique Values: [0.31166443 0.3181368  0.30710193 ... 0.34073707 0.34883639 0.30773856]\n",
      "--------\n",
      "Column:  Revenue Per Share (Yuan ¥)\n",
      "Unique Values: [0.01755978 0.02114434 0.00594401 ... 0.12544429 0.04425488 0.00066549]\n",
      "--------\n",
      "Column:  Operating Profit Per Share (Yuan ¥)\n",
      "Unique Values: [0.09592053 0.09372201 0.09233776 ... 0.15267486 0.13720381 0.19208534]\n",
      "--------\n",
      "Column:  Per Share Net profit before tax (Yuan ¥)\n",
      "Unique Values: [0.13873616 0.1699179  0.14280334 ... 0.33983581 0.22256534 0.2182722 ]\n",
      "--------\n",
      "Column:  Realized Sales Gross Profit Growth Rate\n",
      "Unique Values: [0.02210228 0.02208017 0.0227601  ... 0.02206835 0.02234993 0.02531588]\n",
      "--------\n",
      "Column:  Operating Profit Growth Rate\n",
      "Unique Values: [0.84819499 0.84808788 0.84809401 ... 0.84797756 0.85406383 0.84805314]\n",
      "--------\n",
      "Column:  After-tax Net Profit Growth Rate\n",
      "Unique Values: [0.68897946 0.6896929  0.68946268 ... 0.68920207 0.69611278 0.68952665]\n",
      "--------\n",
      "Column:  Regular Net Profit Growth Rate\n",
      "Unique Values: [0.68897946 0.6897017  0.68946966 ... 0.68920207 0.69611278 0.68952665]\n",
      "--------\n",
      "Column:  Continuous Net Profit Growth Rate\n",
      "Unique Values: [0.21753539 0.2176196  0.2176013  ... 0.21754719 0.21800561 0.2176049 ]\n",
      "--------\n",
      "Column:  Total Asset Growth Rate\n",
      "Unique Values: [4.98000000e+09 6.11000000e+09 7.28000000e+09 ... 1.63195892e-04\n",
      " 1.36873714e-04 1.41862938e-04]\n",
      "--------\n",
      "Column:  Net Value Growth Rate\n",
      "Unique Values: [0.00032698 0.00044304 0.00039643 ... 0.00073431 0.00052868 0.00051863]\n",
      "--------\n",
      "Column:  Total Asset Return Growth Rate Ratio\n",
      "Unique Values: [0.26309998 0.26451578 0.26418398 ... 0.26560443 0.26482194 0.26474656]\n",
      "--------\n",
      "Column:  Cash Reinvestment %\n",
      "Unique Values: [0.36372527 0.37670914 0.36891323 ... 0.3975448  0.40102828 0.36010208]\n",
      "--------\n",
      "Column:  Current Ratio\n",
      "Unique Values: [0.00225896 0.00601621 0.01154255 ... 0.03842359 0.01278249 0.05134836]\n",
      "--------\n",
      "Column:  Quick Ratio\n",
      "Unique Values: [0.00120776 0.00403937 0.00534756 ... 0.03511161 0.00725589 0.04089711]\n",
      "--------\n",
      "Column:  Interest Expense Ratio\n",
      "Unique Values: [0.6299513  0.63517246 0.62963144 ... 0.63039924 0.6631916  0.63148895]\n",
      "--------\n",
      "Column:  Total debt/Total net worth\n",
      "Unique Values: [0.02126592 0.01250239 0.02124769 ... 0.00902616 0.00139159 0.00381638]\n",
      "--------\n",
      "Column:  Debt ratio %\n",
      "Unique Values: [0.20757626 0.17117635 0.2075158  ... 0.06246032 0.03893944 0.08697887]\n",
      "--------\n",
      "Column:  Net worth/Assets\n",
      "Unique Values: [0.79242374 0.82882365 0.7924842  ... 0.93753968 0.96106056 0.91302113]\n",
      "--------\n",
      "Column:  Long-term fund suitability ratio (A)\n",
      "Unique Values: [0.00502445 0.00505888 0.0050999  ... 0.00914894 0.00552851 0.05847594]\n",
      "--------\n",
      "Column:  Borrowing dependency\n",
      "Unique Values: [0.39028435 0.37676002 0.37909292 ... 0.37164128 0.37356934 0.37458705]\n",
      "--------\n",
      "Column:  Contingent liabilities/Net worth\n",
      "Unique Values: [0.0064785  0.00583504 0.00656198 ... 0.0060739  0.0086185  0.00636821]\n",
      "--------\n",
      "Column:  Operating profit/Paid-in capital\n",
      "Unique Values: [0.09588483 0.09374338 0.09231847 ... 0.13186607 0.13349455 0.08888237]\n",
      "--------\n",
      "Column:  Net profit before tax/Paid-in capital\n",
      "Unique Values: [0.13775733 0.16896162 0.14803559 ... 0.17111078 0.18249755 0.17991102]\n",
      "--------\n",
      "Column:  Inventory and accounts receivable/Net value\n",
      "Unique Values: [0.3980357  0.39772488 0.40658045 ... 0.39559204 0.40154041 0.39388256]\n",
      "--------\n",
      "Column:  Total Asset Turnover\n",
      "Unique Values: [0.08695652 0.06446777 0.0149925  0.08995502 0.17541229 0.09595202\n",
      " 0.10044978 0.21889055 0.15442279 0.34782609 0.07646177 0.06296852\n",
      " 0.12443778 0.14542729 0.10194903 0.14842579 0.01949025 0.12593703\n",
      " 0.22938531 0.11844078 0.05397301 0.17391304 0.08245877 0.1844078\n",
      " 0.04197901 0.10944528 0.10344828 0.2143928  0.22038981 0.13793103\n",
      " 0.3898051  0.07196402 0.14692654 0.08845577 0.12293853 0.10794603\n",
      " 0.23088456 0.12743628 0.05247376 0.19190405 0.13193403 0.16041979\n",
      " 0.04647676 0.10494753 0.13643178 0.29235382 0.13493253 0.4017991\n",
      " 0.07496252 0.08545727 0.09145427 0.12143928 0.02098951 0.29835082\n",
      " 0.14392804 0.20089955 0.17241379 0.11244378 0.1964018  0.26386807\n",
      " 0.14242879 0.43928036 0.10644678 0.15742129 0.13343328 0.14092954\n",
      " 0.02248876 0.38530735 0.23388306 0.13043478 0.20689655 0.04347826\n",
      " 0.12893553 0.05097451 0.07346327 0.05697151 0.15592204 0.20989505\n",
      " 0.09745127 0.03598201 0.04947526 0.06146927 0.05847076 0.17991004\n",
      " 0.24137931 0.07046477 0.11094453 0.09295352 0.25937031 0.11394303\n",
      " 0.07946027 0.11544228 0.1934033  0.32083958 0.04797601 0.09895052\n",
      " 0.16641679 0.09445277 0.24737631 0.05997001 0.03448276 0.02998501\n",
      " 0.03298351 0.02698651 0.11694153 0.06596702 0.15292354 0.18590705\n",
      " 0.25637181 0.23838081 0.4197901  0.25187406 0.16491754 0.017991\n",
      " 0.06896552 0.04497751 0.19790105 0.26536732 0.48425787 0.17691154\n",
      " 0.22788606 0.16791604 0.05547226 0.07796102 0.03748126 0.011994\n",
      " 0.02398801 0.25787106 0.06746627 0.3868066  0.1814093  0.1904048\n",
      " 0.17091454 0.03898051 0.04047976 0.02548726 0.11994003 0.15142429\n",
      " 0.21289355 0.24587706 0.41529235 0.18890555 0.16341829 0.\n",
      " 0.08095952 0.37331334 0.23988006 0.01649175 0.16191904 0.0089955\n",
      " 0.14992504 0.27286357 0.39130435 0.1874063  0.23538231 0.00749625\n",
      " 0.01349325 0.23688156 0.13943028 0.22488756 0.4137931  0.27886057\n",
      " 0.005997   0.02848576 0.2083958  0.08395802 0.1994003  0.17841079\n",
      " 0.28035982 0.2113943  0.24887556 0.16941529 0.35082459 0.2023988\n",
      " 0.19490255 0.22638681 0.26986507 0.2173913  0.18290855 0.21589205\n",
      " 0.24287856 0.15892054 0.25487256 0.29085457 0.25037481 0.20389805\n",
      " 0.28335832 0.35832084 0.22188906 0.03148426 0.23238381 0.28935532\n",
      " 0.35382309 0.32233883 0.28635682 0.22338831 0.26686657 0.35532234\n",
      " 0.29535232 0.27736132 0.36881559 0.27136432 0.65067466 0.44527736\n",
      " 0.35232384 0.29985007 0.34032984 0.48275862 0.0029985  0.46476762\n",
      " 0.48575712 0.31034483 0.01049475 0.54422789 0.31184408 0.91904048\n",
      " 0.00149925 0.30434783 0.36731634 0.38230885 0.30134933 0.46026987\n",
      " 0.3988006  0.39730135 0.26086957 0.3808096  0.31334333 0.32533733\n",
      " 0.30584708 0.34182909 0.32683658 0.62218891 0.30884558 0.3838081\n",
      " 0.34932534 0.33733133 0.28185907 0.37931034 0.27436282 0.45577211\n",
      " 0.32983508 0.3928036  0.3958021  0.52173913 0.80809595 0.32383808\n",
      " 0.36431784 0.4107946  0.66716642 0.4047976  0.00449775 0.25337331\n",
      " 0.46176912 0.30734633 0.26236882 0.35682159 0.47676162 0.74662669\n",
      " 0.33883058 0.34632684 0.27586207 0.56671664 0.36131934 0.28785607\n",
      " 0.40629685 0.33283358 0.45127436 0.34482759 0.31484258 0.56971514\n",
      " 0.44827586 0.37481259 0.2053973  0.26836582 0.31784108 0.38830585\n",
      " 0.36581709 0.63568216 0.31934033 0.24437781 0.45727136 0.33583208\n",
      " 0.57571214 0.53823088 0.46626687 0.58470765 0.47376312 0.47826087\n",
      " 0.50824588 0.33433283 0.44977511 0.55772114 0.59370315 0.49175412\n",
      " 0.99550225 0.44077961 0.9970015  0.68665667 0.76461769 0.42278861\n",
      " 0.86656672 0.49925037 0.72413793 0.72563718 0.4167916  0.63718141\n",
      " 0.46326837 0.51274363 0.52473763 0.42128936 0.62968516 0.47076462\n",
      " 0.53673163 0.37631184 0.28485757 0.5862069  0.83808096 0.66116942\n",
      " 0.50674663 0.29685157 0.66266867 0.67616192 0.43328336 0.42728636\n",
      " 0.49775112 0.87706147 0.46776612 0.54572714 0.45877061 0.50074963\n",
      " 0.52323838 0.33133433 0.51424288 0.35982009 0.57421289 0.30284858\n",
      " 0.95802099 0.42878561 0.46926537 0.42578711 0.39430285 0.41229385\n",
      " 0.43478261 0.6131934  0.55922039 0.40929535 0.31634183 0.43178411\n",
      " 0.53223388 0.32833583 0.5922039  0.43028486 0.62668666 0.52773613\n",
      " 0.49625187 0.34332834 0.49475262 0.4077961  0.29385307 0.44677661\n",
      " 0.50524738 0.43628186 0.71364318 0.37781109 0.72113943 0.37031484\n",
      " 0.64017991 0.61769115 0.55622189 0.56521739 0.7916042  0.65367316\n",
      " 0.62818591 0.68965517 0.47526237 0.74062969 0.57871064 1.\n",
      " 0.51724138 0.5982009  0.43778111]\n",
      "--------\n",
      "Column:  Accounts Receivable Turnover\n",
      "Unique Values: [0.00181388 0.00128636 0.00149534 ... 0.00274112 0.00230286 0.00242663]\n",
      "--------\n",
      "Column:  Average Collection Days\n",
      "Unique Values: [0.00348736 0.00491681 0.00422685 ... 0.00965173 0.00882942 0.01947425]\n",
      "--------\n",
      "Column:  Inventory Turnover Rate (times)\n",
      "Unique Values: [1.82092597e-04 9.36000000e+09 6.50000000e+07 ... 6.07612235e-04\n",
      " 3.37434971e-04 7.03284412e-02]\n",
      "--------\n",
      "Column:  Fixed Assets Turnover Frequency\n",
      "Unique Values: [1.16500653e-04 7.19000000e+08 2.65000000e+09 ... 1.16198054e-03\n",
      " 7.86530709e-03 1.02429795e-03]\n",
      "--------\n",
      "Column:  Net Worth Turnover Rate (times)\n",
      "Unique Values: [0.03290323 0.02548387 0.0133871  0.02806452 0.04016129 0.02967742\n",
      " 0.04080645 0.04629032 0.02951613 0.0766129  0.02112903 0.01967742\n",
      " 0.03387097 0.03370968 0.02483871 0.03177419 0.0116129  0.02774194\n",
      " 0.05822581 0.02645161 0.01758065 0.0383871  0.03354839 0.06919355\n",
      " 0.01741935 0.02629032 0.02758065 0.02580645 0.09193548 0.03741935\n",
      " 0.04790323 0.04758065 0.08112903 0.0216129  0.02048387 0.03096774\n",
      " 0.03322581 0.02225806 0.03016129 0.025      0.05629032 0.02822581\n",
      " 0.04048387 0.03677419 0.03225806 0.05709677 0.01903226 0.02387097\n",
      " 0.02322581 0.07790323 0.1616129  0.06387097 0.05016129 0.05290323\n",
      " 0.08129032 0.02241935 0.03064516 0.03306452 0.02258065 0.03032258\n",
      " 0.01177419 0.0616129  0.03048387 0.01645161 0.04064516 0.03532258\n",
      " 0.03548387 0.05774194 0.0183871  0.0266129  0.02709677 0.01983871\n",
      " 0.05854839 0.05306452 0.06435484 0.02741935 0.09822581 0.02467742\n",
      " 0.0366129  0.02935484 0.03274194 0.01193548 0.03693548 0.08064516\n",
      " 0.03241935 0.01564516 0.04564516 0.03403226 0.03758065 0.06225806\n",
      " 0.01870968 0.02612903 0.01854839 0.05322581 0.02370968 0.01725806\n",
      " 0.03209677 0.01951613 0.03       0.0283871  0.01516129 0.02419355\n",
      " 0.02354839 0.02854839 0.01596774 0.02064516 0.03564516 0.05258065\n",
      " 0.02435484 0.04290323 0.0316129  0.02209677 0.01887097 0.03467742\n",
      " 0.04612903 0.03887097 0.0166129  0.02887097 0.02677419 0.01629032\n",
      " 0.02403226 0.035      0.04145161 0.04419355 0.04193548 0.0233871\n",
      " 0.04887097 0.04096774 0.05467742 0.04467742 0.02564516 0.03419355\n",
      " 0.03725806 0.04032258 0.04403226 0.05451613 0.01822581 0.02306452\n",
      " 0.01790323 0.01467742 0.01387097 0.01548387 0.04645161 0.02790323\n",
      " 0.015      0.04112903 0.06016129 0.05758065 0.22       0.03854839\n",
      " 0.05032258 0.03129032 0.03790323 0.03806452 0.01919355 0.02129032\n",
      " 0.01306452 0.02516129 0.02532258 0.01774194 0.0333871  0.01806452\n",
      " 0.02080645 0.04274194 0.05370968 0.02       0.06532258 0.04\n",
      " 0.05403226 0.20548387 0.02096774 0.04258065 0.07677419 0.03483871\n",
      " 0.02451613 0.0416129  0.02290323 0.04225806 0.03258065 0.06209677\n",
      " 0.02725806 0.05096774 0.01709677 0.045      0.03629032 0.01354839\n",
      " 0.02693548 0.02903226 0.01612903 0.04322581 0.05274194 0.05596774\n",
      " 0.09177419 0.03645161 0.04435484 0.00903226 0.01677419 0.01693548\n",
      " 0.01225806 0.02193548 0.01483871 0.03193548 0.02145161 0.01451613\n",
      " 0.04935484 0.07080645 0.08387097 0.01096774 0.05354839 0.03451613\n",
      " 0.04548387 0.01435484 0.03967742 0.03435484 0.01580645 0.04387097\n",
      " 0.09016129 0.01080645 0.05193548 0.02016129 0.07822581 0.01370968\n",
      " 0.05209677 0.05       0.01016129 0.04306452 0.02983871 0.02032258\n",
      " 0.05645161 0.02870968 0.03983871 0.02177419 0.04241935 0.04709677\n",
      " 0.08532258 0.00951613 0.03870968 0.08612903 0.03596774 0.06064516\n",
      " 0.03145161 0.01258065 0.04370968 0.01       0.04967742 0.01532258\n",
      " 0.03774194 0.03709677 0.07548387 0.03951613 0.03112903 0.05693548\n",
      " 0.04822581 0.06709677 0.03919355 0.01935484 0.04596774 0.02596774\n",
      " 0.04725806 0.03822581 0.03080645 0.05532258 0.0483871  0.04516129\n",
      " 0.02919355 0.07580645 0.04870968 0.04693548 0.07032258 0.03903226\n",
      " 0.05983871 0.04951613 0.04806452 0.04983871 0.05483871 0.05241935\n",
      " 0.07596774 0.03935484 0.05919355 0.08741935 0.04483871 0.06419355\n",
      " 0.04532258 0.02274194 0.03516129 0.05741935 0.05080645 0.05516129\n",
      " 0.04854839 0.07532258 0.05419355 0.05225806 0.05935484 0.04580645\n",
      " 0.04209677 0.08241935 0.06451613 0.06145161 0.01274194 0.0516129\n",
      " 0.06080645 0.05435484 0.04741935 0.0466129  0.05112903 0.09451613\n",
      " 0.06854839 0.08758065 0.08209677 0.0716129  0.04129032 0.06258065\n",
      " 0.01403226 0.06467742 0.08516129 0.05145161 0.0433871  0.09725806\n",
      " 0.06370968 0.1233871  0.06096774 0.01209677 0.06822581 0.07209677\n",
      " 0.09241935 0.05048387 0.04177419 0.05548387 0.07612903 0.0533871\n",
      " 0.0566129  0.06677419 0.09080645 0.05064516 0.06177419 0.03612903\n",
      " 0.07306452 0.065      0.07564516 0.05129032 0.04451613 0.07096774\n",
      " 0.06193548 0.05903226 0.07435484 0.06306452 0.06983871 0.07854839\n",
      " 0.08967742 0.05806452 0.06290323 0.0583871  0.06322581 0.14967742\n",
      " 0.05967742 0.07758065 0.10080645 0.10629032 0.18177419 0.14774194\n",
      " 0.06483871 0.17016129 0.11983871 0.18096774 0.08951613 0.20032258\n",
      " 0.07806452 0.22225806 0.00919355 0.01322581 0.00967742 0.09854839\n",
      " 0.08096774 0.01419355 0.09403226 0.08193548 0.14435484 0.04903226\n",
      " 0.10145161 0.13725806 0.07048387 0.1933871  0.09967742 0.12564516\n",
      " 0.07709677 0.00983871 0.07645161 0.23870968 0.07725806 0.09112903\n",
      " 0.00935484 0.05887097 0.29467742 0.14080645 0.11790323 0.09467742\n",
      " 0.01064516 0.26790323 0.07225806 0.01129032 0.09145161 0.19290323\n",
      " 0.06596774 0.09306452 0.01048387 0.13629032 0.06112903 0.08403226\n",
      " 0.09258065 0.055      0.0883871  0.06903226 0.2016129  0.12709677\n",
      " 0.15209677 0.0983871  0.105      0.14919355 1.         0.1183871\n",
      " 0.08467742 0.08225806 0.04354839 0.34758065 0.05564516 0.0666129\n",
      " 0.1316129  0.06774194 0.08306452 0.05612903 0.10258065 0.10241935\n",
      " 0.06516129 0.16032258 0.09709677 0.14290323 0.0633871  0.05951613\n",
      " 0.09870968 0.11806452 0.19790323 0.15983871 0.115      0.06741935\n",
      " 0.06403226 0.05677419 0.14048387 0.10435484 0.07919355 0.08290323\n",
      " 0.23548387 0.39612903 0.08       0.10983871 0.10064516 0.20532258\n",
      " 0.06274194 0.10306452 0.06693548 0.08145161 0.08080645 0.16\n",
      " 0.09274194 0.0683871  0.16483871 0.10596774 0.07774194 0.08629032\n",
      " 0.13016129 0.10209677 0.09629032 0.25629032 0.07016129 0.10919355\n",
      " 0.15758065 0.11290323 0.06548387 0.11548387 0.06048387 0.23532258\n",
      " 0.10322581 0.10048387 0.40483871 0.08709677 0.07967742 0.21725806\n",
      " 0.01290323 0.09935484 0.08032258 0.06967742 0.15467742 0.08548387\n",
      " 0.09290323 0.06580645 0.13129032 0.06870968 0.03580645 0.05790323\n",
      " 0.08919355 0.135      0.13       0.12129032 0.11580645 0.05387097\n",
      " 0.07112903 0.1        0.12548387 0.13258065 0.09790323 0.00887097\n",
      " 0.08806452 0.07983871 0.0733871  0.01145161 0.06887097 0.31467742\n",
      " 0.13967742 0.01032258 0.01241935 0.04774194 0.12322581 0.19935484\n",
      " 0.1433871  0.07903226 0.11596774 0.18048387 0.13548387 0.10483871\n",
      " 0.08483871 0.07258065 0.6766129  0.22951613 0.04919355 0.06645161\n",
      " 0.05580645 0.07354839 0.06032258 0.10516129 0.11048387 0.21822581\n",
      " 0.07629032 0.06806452 0.14064516 0.06564516 0.22564516 0.01112903\n",
      " 0.29306452 0.13854839 0.51064516 0.12467742 0.17387097 0.06758065\n",
      " 0.31532258 0.11887097 0.17451613 0.19080645 0.06129032 0.17145161\n",
      " 0.05725806 0.08258065 0.11       0.05177419 0.13903226 0.11967742\n",
      " 0.20564516 0.14467742 0.08322581 0.15483871 0.13532258 0.09774194\n",
      " 0.13677419 0.09758065 0.08370968 0.18274194 0.11629032 0.28177419\n",
      " 0.17564516 0.06951613 0.11532258 0.19419355 0.28645161 0.07935484\n",
      " 0.11677419 0.07419355 0.12451613 0.12064516 0.19774194 0.08677419\n",
      " 0.11145161 0.12       0.0866129  0.11387097 0.07322581 0.15129032\n",
      " 0.75064516 0.13596774 0.13580645 0.17129032 0.12645161 0.08274194\n",
      " 0.09532258 0.10580645 0.06725806 0.07129032 0.06629032 0.10548387\n",
      " 0.19370968 0.14354839 0.13370968 0.07887097 0.44951613 0.09032258\n",
      " 0.08354839 0.13274194 0.25774194 0.04677419 0.13951613 0.0933871\n",
      " 0.07274194 0.08725806 0.16370968 0.07467742 0.12612903 0.08177419\n",
      " 0.21064516 0.17096774 0.13983871 0.23516129 0.08854839 0.09983871\n",
      " 0.84774194 0.11080645 0.09564516 0.09580645 0.12693548 0.10112903\n",
      " 0.07403226 0.15677419 0.22193548 0.07064516 0.16677419 0.15419355\n",
      " 0.11612903 0.205      0.10532258 0.27258065 0.32758065 0.48709677\n",
      " 0.10870968 0.11516129 0.09225806 0.09048387 0.06935484 0.19177419\n",
      " 0.09       0.05870968 0.075      0.09370968 0.07387097 0.29032258\n",
      " 0.06354839 0.07177419 0.10467742 0.08983871 0.07370968 0.19451613\n",
      " 0.11483871 0.10741935 0.22064516 0.08935484 0.10354839 0.10564516\n",
      " 0.1083871  0.11403226 0.12145161 0.08016129 0.07       0.10419355\n",
      " 0.10451613 0.13564516 0.07483871 0.07870968 0.09516129 0.13483871\n",
      " 0.06612903 0.07451613 0.08048387 0.13225806 0.12516129 0.10790323\n",
      " 0.095      0.11822581 0.13467742 0.15806452 0.11032258 0.1116129\n",
      " 0.0966129  0.15612903 0.17903226 0.15354839 0.1366129  0.20612903\n",
      " 0.12080645 0.1416129  0.13112903 0.11354839 0.13322581 0.215\n",
      " 0.11225806 0.14677419 0.12290323 0.14983871 0.22129032 0.09612903\n",
      " 0.14645161 0.09903226 0.21709677 0.21080645 0.11016129 0.21145161\n",
      " 0.12096774 0.14241935 0.20209677 0.13919355 0.14096774 0.15854839\n",
      " 0.06790323 0.09919355 0.09887097 0.14419355 0.19403226 0.14306452\n",
      " 0.20306452 0.         0.23080645 0.15887097 0.09096774 0.14580645\n",
      " 0.09548387 0.09387097 0.10225806]\n",
      "--------\n",
      "Column:  Revenue per person\n",
      "Unique Values: [0.03416418 0.00688865 0.02899696 ... 0.00634813 0.01608331 0.00209744]\n",
      "--------\n",
      "Column:  Operating profit per person\n",
      "Unique Values: [0.39291287 0.39158997 0.38196784 ... 0.38897809 0.43769928 0.38576694]\n",
      "--------\n",
      "Column:  Allocation rate per person\n",
      "Unique Values: [0.0371353  0.01233497 0.14101631 ... 0.00277398 0.0074886  0.00096346]\n",
      "--------\n",
      "Column:  Working Capital to Total Assets\n",
      "Unique Values: [0.67277529 0.75111092 0.82950191 ... 0.86604668 0.83234028 0.87375937]\n",
      "--------\n",
      "Column:  Quick Assets/Total Assets\n",
      "Unique Values: [0.16667296 0.127236   0.34020088 ... 0.47674679 0.35362434 0.52713614]\n",
      "--------\n",
      "Column:  Current Assets/Total Assets\n",
      "Unique Values: [0.19064296 0.18241905 0.6028057  ... 0.49605333 0.56443923 0.50501015]\n",
      "--------\n",
      "Column:  Cash/Total Assets\n",
      "Unique Values: [0.00409441 0.01494773 0.00099094 ... 0.4128849  0.11223822 0.23814705]\n",
      "--------\n",
      "Column:  Quick Assets/Current Liability\n",
      "Unique Values: [0.00199677 0.00413603 0.00630248 ... 0.03553129 0.00775331 0.05148051]\n",
      "--------\n",
      "Column:  Cash/Current Liability\n",
      "Unique Values: [1.47336025e-04 1.38391008e-03 5.34000000e+09 ... 8.82124805e-02\n",
      " 7.13321810e-03 6.66735448e-02]\n",
      "--------\n",
      "Column:  Current Liability to Assets\n",
      "Unique Values: [0.14730845 0.05696283 0.09816206 ... 0.02441366 0.08319943 0.01851735]\n",
      "--------\n",
      "Column:  Operating Funds to Liability\n",
      "Unique Values: [0.33401517 0.34110599 0.33673149 ... 0.35884745 0.38025076 0.23958472]\n",
      "--------\n",
      "Column:  Inventory/Working Capital\n",
      "Unique Values: [0.27692016 0.28964158 0.27745553 ... 0.27736808 0.27702154 0.27735302]\n",
      "--------\n",
      "Column:  Inventory/Current Liability\n",
      "Unique Values: [0.00103599 0.00520968 0.01387879 ... 0.00673013 0.00780981 0.01333364]\n",
      "--------\n",
      "Column:  Current Liabilities/Liability\n",
      "Unique Values: [0.67626918 0.30858859 0.44602749 ... 0.84989801 0.55396425 0.89324093]\n",
      "--------\n",
      "Column:  Working Capital/Equity\n",
      "Unique Values: [0.72127455 0.73197529 0.74272864 ... 0.7374324  0.73671327 0.73728621]\n",
      "--------\n",
      "Column:  Current Liabilities/Equity\n",
      "Unique Values: [0.33907701 0.32974015 0.33477685 ... 0.3269206  0.32929359 0.32669027]\n",
      "--------\n",
      "Column:  Long-term Liability to Current Assets\n",
      "Unique Values: [2.55923680e-02 2.39468187e-02 3.71511569e-03 ... 1.79223668e-03\n",
      " 2.20467253e-03 3.20000000e+09]\n",
      "--------\n",
      "Column:  Retained Earnings to Total Assets\n",
      "Unique Values: [0.90322477 0.93106522 0.90990336 ... 0.93200043 0.93961269 0.93800498]\n",
      "--------\n",
      "Column:  Total income/Total expense\n",
      "Unique Values: [0.00202161 0.00222561 0.00206007 ... 0.00223877 0.00239469 0.00279086]\n",
      "--------\n",
      "Column:  Total expense/Assets\n",
      "Unique Values: [0.06485571 0.02551586 0.02138743 ... 0.03544595 0.01644274 0.00608857]\n",
      "--------\n",
      "Column:  Current Asset Turnover Rate\n",
      "Unique Values: [7.01000000e+08 1.06519763e-04 1.79109370e-03 ... 1.76227179e-04\n",
      " 2.13594037e-04 7.86378147e-03]\n",
      "--------\n",
      "Column:  Quick Asset Turnover Rate\n",
      "Unique Values: [6.55000000e+09 7.70000000e+09 1.02267647e-03 ... 1.74971260e-04\n",
      " 1.35193735e-04 8.23847130e-03]\n",
      "--------\n",
      "Column:  Working capitcal Turnover Rate\n",
      "Unique Values: [0.5938305  0.59391555 0.59450185 ... 0.5940248  0.59399672 0.59867439]\n",
      "--------\n",
      "Column:  Cash Turnover Rate\n",
      "Unique Values: [4.58000000e+08 2.49000000e+09 7.61000000e+08 ... 4.07426287e-04\n",
      " 1.16539249e-04 9.50599220e-03]\n",
      "--------\n",
      "Column:  Cash Flow to Sales\n",
      "Unique Values: [0.67156765 0.67156994 0.67157132 ... 0.67156372 0.67160595 0.67209645]\n",
      "--------\n",
      "Column:  Fixed Assets to Assets\n",
      "Unique Values: [0.42420576 0.46882813 0.27617922 ... 0.05550888 0.24680487 0.00501561]\n",
      "--------\n",
      "Column:  Current Liability to Liability\n",
      "Unique Values: [0.67626918 0.30858859 0.44602749 ... 0.84989801 0.55396425 0.89324093]\n",
      "--------\n",
      "Column:  Current Liability to Equity\n",
      "Unique Values: [0.33907701 0.32974015 0.33477685 ... 0.3269206  0.32929359 0.32669027]\n",
      "--------\n",
      "Column:  Equity to Long-term Liability\n",
      "Unique Values: [0.12654949 0.12091611 0.11792232 ... 0.1126216  0.112329   0.11095741]\n",
      "--------\n",
      "Column:  Cash Flow to Total Assets\n",
      "Unique Values: [0.6375554  0.64109998 0.64276455 ... 0.63167774 0.68485676 0.65991736]\n",
      "--------\n",
      "Column:  Cash Flow to Liability\n",
      "Unique Values: [0.45860915 0.45900105 0.45925404 ... 0.45246468 0.47131334 0.48328475]\n",
      "--------\n",
      "Column:  CFO to Assets\n",
      "Unique Values: [0.52038192 0.56710131 0.53849054 ... 0.58934139 0.67833794 0.50553126]\n",
      "--------\n",
      "Column:  Cash Flow to Equity\n",
      "Unique Values: [0.31290495 0.31416314 0.31451543 ... 0.31335285 0.32011753 0.31623815]\n",
      "--------\n",
      "Column:  Current Liability to Current Assets\n",
      "Unique Values: [0.11825048 0.04777528 0.02534649 ... 0.00754246 0.02291643 0.00557911]\n",
      "--------\n",
      "Column:  Liability-Assets Flag\n",
      "Unique Values: [0 1]\n",
      "--------\n",
      "Column:  Net Income to Total Assets\n",
      "Unique Values: [0.71684534 0.79529714 0.7746697  ... 0.79777807 0.8118079  0.81595588]\n",
      "--------\n",
      "Column:  Total assets to GNP price\n",
      "Unique Values: [0.00921944 0.0083233  0.04000285 ... 0.00283988 0.0028372  0.00070687]\n",
      "--------\n",
      "Column:  No-credit Interval\n",
      "Unique Values: [0.62287896 0.62365174 0.62384104 ... 0.62415608 0.62395749 0.62668028]\n",
      "--------\n",
      "Column:  Gross Profit to Sales\n",
      "Unique Values: [0.60145329 0.61023653 0.60144934 ... 0.61044059 0.60784592 0.62740824]\n",
      "--------\n",
      "Column:  Net Income to Stockholder's Equity\n",
      "Unique Values: [0.82789021 0.83996927 0.83677431 ... 0.84013826 0.84108361 0.84101855]\n",
      "--------\n",
      "Column:  Liability to Equity\n",
      "Unique Values: [0.29020189 0.28384598 0.29018853 ... 0.27578866 0.27754718 0.27511407]\n",
      "--------\n",
      "Column:  Degree of Financial Leverage (DFL)\n",
      "Unique Values: [0.02660063 0.26457682 0.02655472 ... 0.02700858 0.02682205 0.02679295]\n",
      "--------\n",
      "Column:  Interest Coverage Ratio (Interest expense to EBIT)\n",
      "Unique Values: [0.56405011 0.57017495 0.56370608 ... 0.5660182  0.56530151 0.56516694]\n",
      "--------\n",
      "Column:  Net Income Flag\n",
      "Unique Values: [1]\n",
      "--------\n",
      "Column:  Equity to Liability\n",
      "Unique Values: [0.01646874 0.02079431 0.01647411 ... 0.09764874 0.04400945 0.23390224]\n",
      "--------\n"
     ]
    }
   ],
   "source": [
    "# Check Unique Values for each variable.\n",
    "\n",
    "\n",
    "import pandas as pd\n",
    "\n",
    "def display_unique_values(df):\n",
    "    for column in df.columns:\n",
    "        unique_values = df[column].unique()\n",
    "        print(f\"Column: {column}\")\n",
    "        print(f\"Unique Values: {unique_values}\")\n",
    "        print(\"--------\")\n",
    "\n",
    "# Assuming you have the DataFrame 'df' containing your dataset\n",
    "display_unique_values(df)\n"
   ]
  },
  {
   "cell_type": "markdown",
   "metadata": {
    "id": "dauF4eBmngu3"
   },
   "source": [
    "## 3. ***Data Wrangling***"
   ]
  },
  {
   "cell_type": "markdown",
   "metadata": {
    "id": "bKJF3rekwFvQ"
   },
   "source": [
    "### Data Wrangling Code"
   ]
  },
  {
   "cell_type": "code",
   "execution_count": null,
   "metadata": {
    "id": "wk-9a2fpoLcV"
   },
   "outputs": [],
   "source": [
    "# Write your code to make your dataset analysis ready.\n",
    "\n"
   ]
  },
  {
   "cell_type": "code",
   "execution_count": null,
   "metadata": {},
   "outputs": [],
   "source": []
  },
  {
   "cell_type": "markdown",
   "metadata": {
    "id": "MSa1f5Uengrz"
   },
   "source": [
    "### What all manipulations have you done and insights you found?"
   ]
  },
  {
   "cell_type": "markdown",
   "metadata": {
    "id": "LbyXE7I1olp8"
   },
   "source": [
    "Answer Here."
   ]
  },
  {
   "cell_type": "markdown",
   "metadata": {
    "id": "GF8Ens_Soomf"
   },
   "source": [
    "## ***4. Data Vizualization, Storytelling & Experimenting with charts : Understand the relationships between variables***"
   ]
  },
  {
   "cell_type": "markdown",
   "metadata": {
    "id": "0wOQAZs5pc--"
   },
   "source": [
    "#### Chart - 1"
   ]
  },
  {
   "cell_type": "code",
   "execution_count": null,
   "metadata": {
    "id": "7v_ESjsspbW7"
   },
   "outputs": [],
   "source": [
    "# Chart - 1 visualization code"
   ]
  },
  {
   "cell_type": "markdown",
   "metadata": {
    "id": "K5QZ13OEpz2H"
   },
   "source": [
    "##### 1. Why did you pick the specific chart?"
   ]
  },
  {
   "cell_type": "markdown",
   "metadata": {
    "id": "XESiWehPqBRc"
   },
   "source": [
    "Answer Here."
   ]
  },
  {
   "cell_type": "markdown",
   "metadata": {
    "id": "lQ7QKXXCp7Bj"
   },
   "source": [
    "##### 2. What is/are the insight(s) found from the chart?"
   ]
  },
  {
   "cell_type": "markdown",
   "metadata": {
    "id": "C_j1G7yiqdRP"
   },
   "source": [
    "Answer Here"
   ]
  },
  {
   "cell_type": "markdown",
   "metadata": {
    "id": "448CDAPjqfQr"
   },
   "source": [
    "##### 3. Will the gained insights help creating a positive business impact? \n",
    "Are there any insights that lead to negative growth? Justify with specific reason."
   ]
  },
  {
   "cell_type": "markdown",
   "metadata": {
    "id": "3cspy4FjqxJW"
   },
   "source": [
    "Answer Here"
   ]
  },
  {
   "cell_type": "markdown",
   "metadata": {
    "id": "KSlN3yHqYklG"
   },
   "source": [
    "#### Chart - 2"
   ]
  },
  {
   "cell_type": "code",
   "execution_count": null,
   "metadata": {
    "id": "R4YgtaqtYklH"
   },
   "outputs": [],
   "source": [
    "# Chart - 2 visualization code"
   ]
  },
  {
   "cell_type": "markdown",
   "metadata": {
    "id": "t6dVpIINYklI"
   },
   "source": [
    "##### 1. Why did you pick the specific chart?"
   ]
  },
  {
   "cell_type": "markdown",
   "metadata": {
    "id": "5aaW0BYyYklI"
   },
   "source": [
    "Answer Here."
   ]
  },
  {
   "cell_type": "markdown",
   "metadata": {
    "id": "ijmpgYnKYklI"
   },
   "source": [
    "##### 2. What is/are the insight(s) found from the chart?"
   ]
  },
  {
   "cell_type": "markdown",
   "metadata": {
    "id": "PSx9atu2YklI"
   },
   "source": [
    "Answer Here"
   ]
  },
  {
   "cell_type": "markdown",
   "metadata": {
    "id": "-JiQyfWJYklI"
   },
   "source": [
    "##### 3. Will the gained insights help creating a positive business impact? \n",
    "Are there any insights that lead to negative growth? Justify with specific reason."
   ]
  },
  {
   "cell_type": "markdown",
   "metadata": {
    "id": "BcBbebzrYklV"
   },
   "source": [
    "Answer Here"
   ]
  },
  {
   "cell_type": "markdown",
   "metadata": {
    "id": "EM7whBJCYoAo"
   },
   "source": [
    "#### Chart - 3"
   ]
  },
  {
   "cell_type": "code",
   "execution_count": null,
   "metadata": {
    "id": "t6GMdE67YoAp"
   },
   "outputs": [],
   "source": [
    "# Chart - 3 visualization code"
   ]
  },
  {
   "cell_type": "markdown",
   "metadata": {
    "id": "fge-S5ZAYoAp"
   },
   "source": [
    "##### 1. Why did you pick the specific chart?"
   ]
  },
  {
   "cell_type": "markdown",
   "metadata": {
    "id": "5dBItgRVYoAp"
   },
   "source": [
    "Answer Here."
   ]
  },
  {
   "cell_type": "markdown",
   "metadata": {
    "id": "85gYPyotYoAp"
   },
   "source": [
    "##### 2. What is/are the insight(s) found from the chart?"
   ]
  },
  {
   "cell_type": "markdown",
   "metadata": {
    "id": "4jstXR6OYoAp"
   },
   "source": [
    "Answer Here"
   ]
  },
  {
   "cell_type": "markdown",
   "metadata": {
    "id": "RoGjAbkUYoAp"
   },
   "source": [
    "##### 3. Will the gained insights help creating a positive business impact? \n",
    "Are there any insights that lead to negative growth? Justify with specific reason."
   ]
  },
  {
   "cell_type": "markdown",
   "metadata": {
    "id": "zfJ8IqMcYoAp"
   },
   "source": [
    "Answer Here"
   ]
  },
  {
   "cell_type": "markdown",
   "metadata": {
    "id": "4Of9eVA-YrdM"
   },
   "source": [
    "#### Chart - 4"
   ]
  },
  {
   "cell_type": "code",
   "execution_count": null,
   "metadata": {
    "id": "irlUoxc8YrdO"
   },
   "outputs": [],
   "source": [
    "# Chart - 4 visualization code"
   ]
  },
  {
   "cell_type": "markdown",
   "metadata": {
    "id": "iky9q4vBYrdO"
   },
   "source": [
    "##### 1. Why did you pick the specific chart?"
   ]
  },
  {
   "cell_type": "markdown",
   "metadata": {
    "id": "aJRCwT6DYrdO"
   },
   "source": [
    "Answer Here."
   ]
  },
  {
   "cell_type": "markdown",
   "metadata": {
    "id": "F6T5p64dYrdO"
   },
   "source": [
    "##### 2. What is/are the insight(s) found from the chart?"
   ]
  },
  {
   "cell_type": "markdown",
   "metadata": {
    "id": "Xx8WAJvtYrdO"
   },
   "source": [
    "Answer Here"
   ]
  },
  {
   "cell_type": "markdown",
   "metadata": {
    "id": "y-Ehk30pYrdP"
   },
   "source": [
    "##### 3. Will the gained insights help creating a positive business impact? \n",
    "Are there any insights that lead to negative growth? Justify with specific reason."
   ]
  },
  {
   "cell_type": "markdown",
   "metadata": {
    "id": "jLNxxz7MYrdP"
   },
   "source": [
    "Answer Here"
   ]
  },
  {
   "cell_type": "markdown",
   "metadata": {
    "id": "bamQiAODYuh1"
   },
   "source": [
    "#### Chart - 5"
   ]
  },
  {
   "cell_type": "code",
   "execution_count": null,
   "metadata": {
    "id": "TIJwrbroYuh3"
   },
   "outputs": [],
   "source": [
    "# Chart - 5 visualization code"
   ]
  },
  {
   "cell_type": "markdown",
   "metadata": {
    "id": "QHF8YVU7Yuh3"
   },
   "source": [
    "##### 1. Why did you pick the specific chart?"
   ]
  },
  {
   "cell_type": "markdown",
   "metadata": {
    "id": "dcxuIMRPYuh3"
   },
   "source": [
    "Answer Here."
   ]
  },
  {
   "cell_type": "markdown",
   "metadata": {
    "id": "GwzvFGzlYuh3"
   },
   "source": [
    "##### 2. What is/are the insight(s) found from the chart?"
   ]
  },
  {
   "cell_type": "markdown",
   "metadata": {
    "id": "uyqkiB8YYuh3"
   },
   "source": [
    "Answer Here"
   ]
  },
  {
   "cell_type": "markdown",
   "metadata": {
    "id": "qYpmQ266Yuh3"
   },
   "source": [
    "##### 3. Will the gained insights help creating a positive business impact? \n",
    "Are there any insights that lead to negative growth? Justify with specific reason."
   ]
  },
  {
   "cell_type": "markdown",
   "metadata": {
    "id": "_WtzZ_hCYuh4"
   },
   "source": [
    "Answer Here"
   ]
  },
  {
   "cell_type": "markdown",
   "metadata": {
    "id": "OH-pJp9IphqM"
   },
   "source": [
    "#### Chart - 6"
   ]
  },
  {
   "cell_type": "code",
   "execution_count": null,
   "metadata": {
    "id": "kuRf4wtuphqN"
   },
   "outputs": [],
   "source": [
    "# Chart - 6 visualization code"
   ]
  },
  {
   "cell_type": "markdown",
   "metadata": {
    "id": "bbFf2-_FphqN"
   },
   "source": [
    "##### 1. Why did you pick the specific chart?"
   ]
  },
  {
   "cell_type": "markdown",
   "metadata": {
    "id": "loh7H2nzphqN"
   },
   "source": [
    "Answer Here."
   ]
  },
  {
   "cell_type": "markdown",
   "metadata": {
    "id": "_ouA3fa0phqN"
   },
   "source": [
    "##### 2. What is/are the insight(s) found from the chart?"
   ]
  },
  {
   "cell_type": "markdown",
   "metadata": {
    "id": "VECbqPI7phqN"
   },
   "source": [
    "Answer Here"
   ]
  },
  {
   "cell_type": "markdown",
   "metadata": {
    "id": "Seke61FWphqN"
   },
   "source": [
    "##### 3. Will the gained insights help creating a positive business impact? \n",
    "Are there any insights that lead to negative growth? Justify with specific reason."
   ]
  },
  {
   "cell_type": "markdown",
   "metadata": {
    "id": "DW4_bGpfphqN"
   },
   "source": [
    "Answer Here"
   ]
  },
  {
   "cell_type": "markdown",
   "metadata": {
    "id": "PIIx-8_IphqN"
   },
   "source": [
    "#### Chart - 7"
   ]
  },
  {
   "cell_type": "code",
   "execution_count": null,
   "metadata": {
    "id": "lqAIGUfyphqO"
   },
   "outputs": [],
   "source": [
    "# Chart - 7 visualization code"
   ]
  },
  {
   "cell_type": "markdown",
   "metadata": {
    "id": "t27r6nlMphqO"
   },
   "source": [
    "##### 1. Why did you pick the specific chart?"
   ]
  },
  {
   "cell_type": "markdown",
   "metadata": {
    "id": "iv6ro40sphqO"
   },
   "source": [
    "Answer Here."
   ]
  },
  {
   "cell_type": "markdown",
   "metadata": {
    "id": "r2jJGEOYphqO"
   },
   "source": [
    "##### 2. What is/are the insight(s) found from the chart?"
   ]
  },
  {
   "cell_type": "markdown",
   "metadata": {
    "id": "Po6ZPi4hphqO"
   },
   "source": [
    "Answer Here"
   ]
  },
  {
   "cell_type": "markdown",
   "metadata": {
    "id": "b0JNsNcRphqO"
   },
   "source": [
    "##### 3. Will the gained insights help creating a positive business impact? \n",
    "Are there any insights that lead to negative growth? Justify with specific reason."
   ]
  },
  {
   "cell_type": "markdown",
   "metadata": {
    "id": "xvSq8iUTphqO"
   },
   "source": [
    "Answer Here"
   ]
  },
  {
   "cell_type": "markdown",
   "metadata": {
    "id": "BZR9WyysphqO"
   },
   "source": [
    "#### Chart - 8"
   ]
  },
  {
   "cell_type": "code",
   "execution_count": null,
   "metadata": {
    "id": "TdPTWpAVphqO"
   },
   "outputs": [],
   "source": [
    "# Chart - 8 visualization code"
   ]
  },
  {
   "cell_type": "markdown",
   "metadata": {
    "id": "jj7wYXLtphqO"
   },
   "source": [
    "##### 1. Why did you pick the specific chart?"
   ]
  },
  {
   "cell_type": "markdown",
   "metadata": {
    "id": "Ob8u6rCTphqO"
   },
   "source": [
    "Answer Here."
   ]
  },
  {
   "cell_type": "markdown",
   "metadata": {
    "id": "eZrbJ2SmphqO"
   },
   "source": [
    "##### 2. What is/are the insight(s) found from the chart?"
   ]
  },
  {
   "cell_type": "markdown",
   "metadata": {
    "id": "mZtgC_hjphqO"
   },
   "source": [
    "Answer Here"
   ]
  },
  {
   "cell_type": "markdown",
   "metadata": {
    "id": "rFu4xreNphqO"
   },
   "source": [
    "##### 3. Will the gained insights help creating a positive business impact? \n",
    "Are there any insights that lead to negative growth? Justify with specific reason."
   ]
  },
  {
   "cell_type": "markdown",
   "metadata": {
    "id": "ey_0qi68phqO"
   },
   "source": [
    "Answer Here"
   ]
  },
  {
   "cell_type": "markdown",
   "metadata": {
    "id": "YJ55k-q6phqO"
   },
   "source": [
    "#### Chart - 9"
   ]
  },
  {
   "cell_type": "code",
   "execution_count": null,
   "metadata": {
    "id": "B2aS4O1ophqO"
   },
   "outputs": [],
   "source": [
    "# Chart - 9 visualization code"
   ]
  },
  {
   "cell_type": "markdown",
   "metadata": {
    "id": "gCFgpxoyphqP"
   },
   "source": [
    "##### 1. Why did you pick the specific chart?"
   ]
  },
  {
   "cell_type": "markdown",
   "metadata": {
    "id": "TVxDimi2phqP"
   },
   "source": [
    "Answer Here."
   ]
  },
  {
   "cell_type": "markdown",
   "metadata": {
    "id": "OVtJsKN_phqQ"
   },
   "source": [
    "##### 2. What is/are the insight(s) found from the chart?"
   ]
  },
  {
   "cell_type": "markdown",
   "metadata": {
    "id": "ngGi97qjphqQ"
   },
   "source": [
    "Answer Here"
   ]
  },
  {
   "cell_type": "markdown",
   "metadata": {
    "id": "lssrdh5qphqQ"
   },
   "source": [
    "##### 3. Will the gained insights help creating a positive business impact? \n",
    "Are there any insights that lead to negative growth? Justify with specific reason."
   ]
  },
  {
   "cell_type": "markdown",
   "metadata": {
    "id": "tBpY5ekJphqQ"
   },
   "source": [
    "Answer Here"
   ]
  },
  {
   "cell_type": "markdown",
   "metadata": {
    "id": "U2RJ9gkRphqQ"
   },
   "source": [
    "#### Chart - 10"
   ]
  },
  {
   "cell_type": "code",
   "execution_count": null,
   "metadata": {
    "id": "GM7a4YP4phqQ"
   },
   "outputs": [],
   "source": [
    "# Chart - 10 visualization code"
   ]
  },
  {
   "cell_type": "markdown",
   "metadata": {
    "id": "1M8mcRywphqQ"
   },
   "source": [
    "##### 1. Why did you pick the specific chart?"
   ]
  },
  {
   "cell_type": "markdown",
   "metadata": {
    "id": "8agQvks0phqQ"
   },
   "source": [
    "Answer Here."
   ]
  },
  {
   "cell_type": "markdown",
   "metadata": {
    "id": "tgIPom80phqQ"
   },
   "source": [
    "##### 2. What is/are the insight(s) found from the chart?"
   ]
  },
  {
   "cell_type": "markdown",
   "metadata": {
    "id": "Qp13pnNzphqQ"
   },
   "source": [
    "Answer Here"
   ]
  },
  {
   "cell_type": "markdown",
   "metadata": {
    "id": "JMzcOPDDphqR"
   },
   "source": [
    "##### 3. Will the gained insights help creating a positive business impact? \n",
    "Are there any insights that lead to negative growth? Justify with specific reason."
   ]
  },
  {
   "cell_type": "markdown",
   "metadata": {
    "id": "R4Ka1PC2phqR"
   },
   "source": [
    "Answer Here"
   ]
  },
  {
   "cell_type": "markdown",
   "metadata": {
    "id": "x-EpHcCOp1ci"
   },
   "source": [
    "#### Chart - 11"
   ]
  },
  {
   "cell_type": "code",
   "execution_count": null,
   "metadata": {
    "id": "mAQTIvtqp1cj"
   },
   "outputs": [],
   "source": [
    "# Chart - 11 visualization code"
   ]
  },
  {
   "cell_type": "markdown",
   "metadata": {
    "id": "X_VqEhTip1ck"
   },
   "source": [
    "##### 1. Why did you pick the specific chart?"
   ]
  },
  {
   "cell_type": "markdown",
   "metadata": {
    "id": "-vsMzt_np1ck"
   },
   "source": [
    "Answer Here."
   ]
  },
  {
   "cell_type": "markdown",
   "metadata": {
    "id": "8zGJKyg5p1ck"
   },
   "source": [
    "##### 2. What is/are the insight(s) found from the chart?"
   ]
  },
  {
   "cell_type": "markdown",
   "metadata": {
    "id": "ZYdMsrqVp1ck"
   },
   "source": [
    "Answer Here"
   ]
  },
  {
   "cell_type": "markdown",
   "metadata": {
    "id": "PVzmfK_Ep1ck"
   },
   "source": [
    "##### 3. Will the gained insights help creating a positive business impact? \n",
    "Are there any insights that lead to negative growth? Justify with specific reason."
   ]
  },
  {
   "cell_type": "markdown",
   "metadata": {
    "id": "druuKYZpp1ck"
   },
   "source": [
    "Answer Here"
   ]
  },
  {
   "cell_type": "markdown",
   "metadata": {
    "id": "n3dbpmDWp1ck"
   },
   "source": [
    "#### Chart - 12"
   ]
  },
  {
   "cell_type": "code",
   "execution_count": null,
   "metadata": {
    "id": "bwevp1tKp1ck"
   },
   "outputs": [],
   "source": [
    "# Chart - 12 visualization code"
   ]
  },
  {
   "cell_type": "markdown",
   "metadata": {
    "id": "ylSl6qgtp1ck"
   },
   "source": [
    "##### 1. Why did you pick the specific chart?"
   ]
  },
  {
   "cell_type": "markdown",
   "metadata": {
    "id": "m2xqNkiQp1ck"
   },
   "source": [
    "Answer Here."
   ]
  },
  {
   "cell_type": "markdown",
   "metadata": {
    "id": "ZWILFDl5p1ck"
   },
   "source": [
    "##### 2. What is/are the insight(s) found from the chart?"
   ]
  },
  {
   "cell_type": "markdown",
   "metadata": {
    "id": "x-lUsV2mp1ck"
   },
   "source": [
    "Answer Here"
   ]
  },
  {
   "cell_type": "markdown",
   "metadata": {
    "id": "M7G43BXep1ck"
   },
   "source": [
    "##### 3. Will the gained insights help creating a positive business impact? \n",
    "Are there any insights that lead to negative growth? Justify with specific reason."
   ]
  },
  {
   "cell_type": "markdown",
   "metadata": {
    "id": "5wwDJXsLp1cl"
   },
   "source": [
    "Answer Here"
   ]
  },
  {
   "cell_type": "markdown",
   "metadata": {
    "id": "Ag9LCva-p1cl"
   },
   "source": [
    "#### Chart - 13"
   ]
  },
  {
   "cell_type": "code",
   "execution_count": null,
   "metadata": {
    "id": "EUfxeq9-p1cl"
   },
   "outputs": [],
   "source": [
    "# Chart - 13 visualization code"
   ]
  },
  {
   "cell_type": "markdown",
   "metadata": {
    "id": "E6MkPsBcp1cl"
   },
   "source": [
    "##### 1. Why did you pick the specific chart?"
   ]
  },
  {
   "cell_type": "markdown",
   "metadata": {
    "id": "V22bRsFWp1cl"
   },
   "source": [
    "Answer Here."
   ]
  },
  {
   "cell_type": "markdown",
   "metadata": {
    "id": "2cELzS2fp1cl"
   },
   "source": [
    "##### 2. What is/are the insight(s) found from the chart?"
   ]
  },
  {
   "cell_type": "markdown",
   "metadata": {
    "id": "ozQPc2_Ip1cl"
   },
   "source": [
    "Answer Here"
   ]
  },
  {
   "cell_type": "markdown",
   "metadata": {
    "id": "3MPXvC8up1cl"
   },
   "source": [
    "##### 3. Will the gained insights help creating a positive business impact? \n",
    "Are there any insights that lead to negative growth? Justify with specific reason."
   ]
  },
  {
   "cell_type": "markdown",
   "metadata": {
    "id": "GL8l1tdLp1cl"
   },
   "source": [
    "Answer Here"
   ]
  },
  {
   "cell_type": "markdown",
   "metadata": {
    "id": "NC_X3p0fY2L0"
   },
   "source": [
    "#### Chart - 14 - Correlation Heatmap"
   ]
  },
  {
   "cell_type": "code",
   "execution_count": null,
   "metadata": {
    "id": "xyC9zolEZNRQ"
   },
   "outputs": [],
   "source": [
    "# Correlation Heatmap visualization code"
   ]
  },
  {
   "cell_type": "markdown",
   "metadata": {
    "id": "UV0SzAkaZNRQ"
   },
   "source": [
    "##### 1. Why did you pick the specific chart?"
   ]
  },
  {
   "cell_type": "markdown",
   "metadata": {
    "id": "DVPuT8LYZNRQ"
   },
   "source": [
    "Answer Here."
   ]
  },
  {
   "cell_type": "markdown",
   "metadata": {
    "id": "YPEH6qLeZNRQ"
   },
   "source": [
    "##### 2. What is/are the insight(s) found from the chart?"
   ]
  },
  {
   "cell_type": "markdown",
   "metadata": {
    "id": "bfSqtnDqZNRR"
   },
   "source": [
    "Answer Here"
   ]
  },
  {
   "cell_type": "markdown",
   "metadata": {
    "id": "q29F0dvdveiT"
   },
   "source": [
    "#### Chart - 15 - Pair Plot "
   ]
  },
  {
   "cell_type": "code",
   "execution_count": null,
   "metadata": {
    "id": "o58-TEIhveiU"
   },
   "outputs": [],
   "source": [
    "# Pair Plot visualization code"
   ]
  },
  {
   "cell_type": "markdown",
   "metadata": {
    "id": "EXh0U9oCveiU"
   },
   "source": [
    "##### 1. Why did you pick the specific chart?"
   ]
  },
  {
   "cell_type": "markdown",
   "metadata": {
    "id": "eMmPjTByveiU"
   },
   "source": [
    "Answer Here."
   ]
  },
  {
   "cell_type": "markdown",
   "metadata": {
    "id": "22aHeOlLveiV"
   },
   "source": [
    "##### 2. What is/are the insight(s) found from the chart?"
   ]
  },
  {
   "cell_type": "markdown",
   "metadata": {
    "id": "uPQ8RGwHveiV"
   },
   "source": [
    "Answer Here"
   ]
  },
  {
   "cell_type": "markdown",
   "metadata": {
    "id": "g-ATYxFrGrvw"
   },
   "source": [
    "## ***5. Hypothesis Testing***"
   ]
  },
  {
   "cell_type": "markdown",
   "metadata": {
    "id": "Yfr_Vlr8HBkt"
   },
   "source": [
    "### Based on your chart experiments, define three hypothetical statements from the dataset. In the next three questions, perform hypothesis testing to obtain final conclusion about the statements through your code and statistical testing."
   ]
  },
  {
   "cell_type": "markdown",
   "metadata": {
    "id": "-7MS06SUHkB-"
   },
   "source": [
    "Answer Here."
   ]
  },
  {
   "cell_type": "markdown",
   "metadata": {
    "id": "8yEUt7NnHlrM"
   },
   "source": [
    "### Hypothetical Statement - 1"
   ]
  },
  {
   "cell_type": "markdown",
   "metadata": {
    "id": "tEA2Xm5dHt1r"
   },
   "source": [
    "#### 1. State Your research hypothesis as a null hypothesis and alternate hypothesis."
   ]
  },
  {
   "cell_type": "markdown",
   "metadata": {
    "id": "HI9ZP0laH0D-"
   },
   "source": [
    "Answer Here."
   ]
  },
  {
   "cell_type": "markdown",
   "metadata": {
    "id": "I79__PHVH19G"
   },
   "source": [
    "#### 2. Perform an appropriate statistical test."
   ]
  },
  {
   "cell_type": "code",
   "execution_count": null,
   "metadata": {
    "id": "oZrfquKtyian"
   },
   "outputs": [],
   "source": [
    "# Perform Statistical Test to obtain P-Value"
   ]
  },
  {
   "cell_type": "markdown",
   "metadata": {
    "id": "Ou-I18pAyIpj"
   },
   "source": [
    "##### Which statistical test have you done to obtain P-Value?"
   ]
  },
  {
   "cell_type": "markdown",
   "metadata": {
    "id": "s2U0kk00ygSB"
   },
   "source": [
    "Answer Here."
   ]
  },
  {
   "cell_type": "markdown",
   "metadata": {
    "id": "fF3858GYyt-u"
   },
   "source": [
    "##### Why did you choose the specific statistical test?"
   ]
  },
  {
   "cell_type": "markdown",
   "metadata": {
    "id": "HO4K0gP5y3B4"
   },
   "source": [
    "Answer Here."
   ]
  },
  {
   "cell_type": "markdown",
   "metadata": {
    "id": "4_0_7-oCpUZd"
   },
   "source": [
    "### Hypothetical Statement - 2"
   ]
  },
  {
   "cell_type": "markdown",
   "metadata": {
    "id": "hwyV_J3ipUZe"
   },
   "source": [
    "#### 1. State Your research hypothesis as a null hypothesis and alternate hypothesis."
   ]
  },
  {
   "cell_type": "markdown",
   "metadata": {
    "id": "FnpLGJ-4pUZe"
   },
   "source": [
    "Answer Here."
   ]
  },
  {
   "cell_type": "markdown",
   "metadata": {
    "id": "3yB-zSqbpUZe"
   },
   "source": [
    "#### 2. Perform an appropriate statistical test."
   ]
  },
  {
   "cell_type": "code",
   "execution_count": null,
   "metadata": {
    "id": "sWxdNTXNpUZe"
   },
   "outputs": [],
   "source": [
    "# Perform Statistical Test to obtain P-Value"
   ]
  },
  {
   "cell_type": "markdown",
   "metadata": {
    "id": "dEUvejAfpUZe"
   },
   "source": [
    "##### Which statistical test have you done to obtain P-Value?"
   ]
  },
  {
   "cell_type": "markdown",
   "metadata": {
    "id": "oLDrPz7HpUZf"
   },
   "source": [
    "Answer Here."
   ]
  },
  {
   "cell_type": "markdown",
   "metadata": {
    "id": "Fd15vwWVpUZf"
   },
   "source": [
    "##### Why did you choose the specific statistical test?"
   ]
  },
  {
   "cell_type": "markdown",
   "metadata": {
    "id": "4xOGYyiBpUZf"
   },
   "source": [
    "Answer Here."
   ]
  },
  {
   "cell_type": "markdown",
   "metadata": {
    "id": "bn_IUdTipZyH"
   },
   "source": [
    "### Hypothetical Statement - 3"
   ]
  },
  {
   "cell_type": "markdown",
   "metadata": {
    "id": "49K5P_iCpZyH"
   },
   "source": [
    "#### 1. State Your research hypothesis as a null hypothesis and alternate hypothesis."
   ]
  },
  {
   "cell_type": "markdown",
   "metadata": {
    "id": "7gWI5rT9pZyH"
   },
   "source": [
    "Answer Here."
   ]
  },
  {
   "cell_type": "markdown",
   "metadata": {
    "id": "Nff-vKELpZyI"
   },
   "source": [
    "#### 2. Perform an appropriate statistical test."
   ]
  },
  {
   "cell_type": "code",
   "execution_count": null,
   "metadata": {
    "id": "s6AnJQjtpZyI"
   },
   "outputs": [],
   "source": [
    "# Perform Statistical Test to obtain P-Value"
   ]
  },
  {
   "cell_type": "markdown",
   "metadata": {
    "id": "kLW572S8pZyI"
   },
   "source": [
    "##### Which statistical test have you done to obtain P-Value?"
   ]
  },
  {
   "cell_type": "markdown",
   "metadata": {
    "id": "ytWJ8v15pZyI"
   },
   "source": [
    "Answer Here."
   ]
  },
  {
   "cell_type": "markdown",
   "metadata": {
    "id": "dWbDXHzopZyI"
   },
   "source": [
    "##### Why did you choose the specific statistical test?"
   ]
  },
  {
   "cell_type": "markdown",
   "metadata": {
    "id": "M99G98V6pZyI"
   },
   "source": [
    "Answer Here."
   ]
  },
  {
   "cell_type": "markdown",
   "metadata": {
    "id": "yLjJCtPM0KBk"
   },
   "source": [
    "## ***6. Feature Engineering & Data Pre-processing***"
   ]
  },
  {
   "cell_type": "markdown",
   "metadata": {
    "id": "xiyOF9F70UgQ"
   },
   "source": [
    "### 1. Handling Missing Values"
   ]
  },
  {
   "cell_type": "code",
   "execution_count": null,
   "metadata": {
    "id": "iRsAHk1K0fpS"
   },
   "outputs": [],
   "source": [
    "# Handling Missing Values & Missing Value Imputation"
   ]
  },
  {
   "cell_type": "markdown",
   "metadata": {
    "id": "7wuGOrhz0itI"
   },
   "source": [
    "#### What all missing value imputation techniques have you used and why did you use those techniques?"
   ]
  },
  {
   "cell_type": "markdown",
   "metadata": {
    "id": "1ixusLtI0pqI"
   },
   "source": [
    "Answer Here."
   ]
  },
  {
   "cell_type": "markdown",
   "metadata": {
    "id": "id1riN9m0vUs"
   },
   "source": [
    "### 2. Handling Outliers"
   ]
  },
  {
   "cell_type": "code",
   "execution_count": null,
   "metadata": {
    "id": "M6w2CzZf04JK"
   },
   "outputs": [],
   "source": [
    "# Handling Outliers & Outlier treatments"
   ]
  },
  {
   "cell_type": "markdown",
   "metadata": {
    "id": "578E2V7j08f6"
   },
   "source": [
    "##### What all outlier treatment techniques have you used and why did you use those techniques?"
   ]
  },
  {
   "cell_type": "markdown",
   "metadata": {
    "id": "uGZz5OrT1HH-"
   },
   "source": [
    "Answer Here."
   ]
  },
  {
   "cell_type": "markdown",
   "metadata": {
    "id": "89xtkJwZ18nB"
   },
   "source": [
    "### 3. Categorical Encoding"
   ]
  },
  {
   "cell_type": "code",
   "execution_count": null,
   "metadata": {
    "id": "21JmIYMG2hEo"
   },
   "outputs": [],
   "source": [
    "# Encode your categorical columns"
   ]
  },
  {
   "cell_type": "markdown",
   "metadata": {
    "id": "67NQN5KX2AMe"
   },
   "source": [
    "#### What all categorical encoding techniques have you used & why did you use those techniques?"
   ]
  },
  {
   "cell_type": "markdown",
   "metadata": {
    "id": "UDaue5h32n_G"
   },
   "source": [
    "Answer Here."
   ]
  },
  {
   "cell_type": "markdown",
   "metadata": {
    "id": "Iwf50b-R2tYG"
   },
   "source": [
    "### 4. Textual Data Preprocessing \n",
    "(It's mandatory for textual dataset i.e., NLP, Sentiment Analysis, Text Clustering etc.)"
   ]
  },
  {
   "cell_type": "markdown",
   "metadata": {
    "id": "GMQiZwjn3iu7"
   },
   "source": [
    "#### 1. Expand Contraction"
   ]
  },
  {
   "cell_type": "code",
   "execution_count": null,
   "metadata": {
    "id": "PTouz10C3oNN"
   },
   "outputs": [],
   "source": [
    "# Expand Contraction"
   ]
  },
  {
   "cell_type": "markdown",
   "metadata": {
    "id": "WVIkgGqN3qsr"
   },
   "source": [
    "#### 2. Lower Casing"
   ]
  },
  {
   "cell_type": "code",
   "execution_count": null,
   "metadata": {
    "id": "88JnJ1jN3w7j"
   },
   "outputs": [],
   "source": [
    "# Lower Casing"
   ]
  },
  {
   "cell_type": "markdown",
   "metadata": {
    "id": "XkPnILGE3zoT"
   },
   "source": [
    "#### 3. Removing Punctuations"
   ]
  },
  {
   "cell_type": "code",
   "execution_count": null,
   "metadata": {
    "id": "vqbBqNaA33c0"
   },
   "outputs": [],
   "source": [
    "# Remove Punctuations"
   ]
  },
  {
   "cell_type": "markdown",
   "metadata": {
    "id": "Hlsf0x5436Go"
   },
   "source": [
    "#### 4. Removing URLs & Removing words and digits contain digits."
   ]
  },
  {
   "cell_type": "code",
   "execution_count": null,
   "metadata": {
    "id": "2sxKgKxu4Ip3"
   },
   "outputs": [],
   "source": [
    "# Remove URLs & Remove words and digits contain digits"
   ]
  },
  {
   "cell_type": "markdown",
   "metadata": {
    "id": "mT9DMSJo4nBL"
   },
   "source": [
    "#### 5. Removing Stopwords & Removing White spaces"
   ]
  },
  {
   "cell_type": "code",
   "execution_count": null,
   "metadata": {
    "id": "T2LSJh154s8W"
   },
   "outputs": [],
   "source": [
    "# Remove Stopwords"
   ]
  },
  {
   "cell_type": "code",
   "execution_count": null,
   "metadata": {
    "id": "EgLJGffy4vm0"
   },
   "outputs": [],
   "source": [
    "# Remove White spaces"
   ]
  },
  {
   "cell_type": "markdown",
   "metadata": {
    "id": "c49ITxTc407N"
   },
   "source": [
    "#### 6. Rephrase Text"
   ]
  },
  {
   "cell_type": "code",
   "execution_count": null,
   "metadata": {
    "id": "foqY80Qu48N2"
   },
   "outputs": [],
   "source": [
    "# Rephrase Text"
   ]
  },
  {
   "cell_type": "markdown",
   "metadata": {
    "id": "OeJFEK0N496M"
   },
   "source": [
    "#### 7. Tokenization"
   ]
  },
  {
   "cell_type": "code",
   "execution_count": null,
   "metadata": {
    "id": "ijx1rUOS5CUU"
   },
   "outputs": [],
   "source": [
    "# Tokenization"
   ]
  },
  {
   "cell_type": "markdown",
   "metadata": {
    "id": "9ExmJH0g5HBk"
   },
   "source": [
    "#### 8. Text Normalization"
   ]
  },
  {
   "cell_type": "code",
   "execution_count": null,
   "metadata": {
    "id": "AIJ1a-Zc5PY8"
   },
   "outputs": [],
   "source": [
    "# Normalizing Text (i.e., Stemming, Lemmatization etc.)"
   ]
  },
  {
   "cell_type": "markdown",
   "metadata": {
    "id": "cJNqERVU536h"
   },
   "source": [
    "##### Which text normalization technique have you used and why?"
   ]
  },
  {
   "cell_type": "markdown",
   "metadata": {
    "id": "Z9jKVxE06BC1"
   },
   "source": [
    "Answer Here."
   ]
  },
  {
   "cell_type": "markdown",
   "metadata": {
    "id": "k5UmGsbsOxih"
   },
   "source": [
    "#### 9. Part of speech tagging"
   ]
  },
  {
   "cell_type": "code",
   "execution_count": null,
   "metadata": {
    "id": "btT3ZJBAO6Ik"
   },
   "outputs": [],
   "source": [
    "# POS Taging"
   ]
  },
  {
   "cell_type": "markdown",
   "metadata": {
    "id": "T0VqWOYE6DLQ"
   },
   "source": [
    "#### 10. Text Vectorization"
   ]
  },
  {
   "cell_type": "code",
   "execution_count": null,
   "metadata": {
    "id": "yBRtdhth6JDE"
   },
   "outputs": [],
   "source": [
    "# Vectorizing Text"
   ]
  },
  {
   "cell_type": "markdown",
   "metadata": {
    "id": "qBMux9mC6MCf"
   },
   "source": [
    "##### Which text vectorization technique have you used and why?"
   ]
  },
  {
   "cell_type": "markdown",
   "metadata": {
    "id": "su2EnbCh6UKQ"
   },
   "source": [
    "Answer Here."
   ]
  },
  {
   "cell_type": "markdown",
   "metadata": {
    "id": "-oLEiFgy-5Pf"
   },
   "source": [
    "### 4. Feature Manipulation & Selection"
   ]
  },
  {
   "cell_type": "markdown",
   "metadata": {
    "id": "C74aWNz2AliB"
   },
   "source": [
    "#### 1. Feature Manipulation"
   ]
  },
  {
   "cell_type": "code",
   "execution_count": null,
   "metadata": {
    "id": "h1qC4yhBApWC"
   },
   "outputs": [],
   "source": [
    "# Manipulate Features to minimize feature correlation and create new features"
   ]
  },
  {
   "cell_type": "markdown",
   "metadata": {
    "id": "2DejudWSA-a0"
   },
   "source": [
    "#### 2. Feature Selection"
   ]
  },
  {
   "cell_type": "code",
   "execution_count": null,
   "metadata": {
    "id": "YLhe8UmaBCEE"
   },
   "outputs": [],
   "source": [
    "# Select your features wisely to avoid overfitting"
   ]
  },
  {
   "cell_type": "markdown",
   "metadata": {
    "id": "pEMng2IbBLp7"
   },
   "source": [
    "##### What all feature selection methods have you used  and why?"
   ]
  },
  {
   "cell_type": "markdown",
   "metadata": {
    "id": "rb2Lh6Z8BgGs"
   },
   "source": [
    "Answer Here."
   ]
  },
  {
   "cell_type": "markdown",
   "metadata": {
    "id": "rAdphbQ9Bhjc"
   },
   "source": [
    "##### Which all features you found important and why?"
   ]
  },
  {
   "cell_type": "markdown",
   "metadata": {
    "id": "fGgaEstsBnaf"
   },
   "source": [
    "Answer Here."
   ]
  },
  {
   "cell_type": "markdown",
   "metadata": {
    "id": "TNVZ9zx19K6k"
   },
   "source": [
    "### 5. Data Transformation"
   ]
  },
  {
   "cell_type": "markdown",
   "metadata": {
    "id": "nqoHp30x9hH9"
   },
   "source": [
    "#### Do you think that your data needs to be transformed? If yes, which transformation have you used. Explain Why?"
   ]
  },
  {
   "cell_type": "code",
   "execution_count": null,
   "metadata": {
    "id": "I6quWQ1T9rtH"
   },
   "outputs": [],
   "source": [
    "# Transform Your data"
   ]
  },
  {
   "cell_type": "markdown",
   "metadata": {
    "id": "rMDnDkt2B6du"
   },
   "source": [
    "### 6. Data Scaling"
   ]
  },
  {
   "cell_type": "code",
   "execution_count": null,
   "metadata": {
    "id": "dL9LWpySC6x_"
   },
   "outputs": [],
   "source": [
    "# Scaling your data"
   ]
  },
  {
   "cell_type": "markdown",
   "metadata": {
    "id": "yiiVWRdJDDil"
   },
   "source": [
    "##### Which method have you used to scale you data and why?"
   ]
  },
  {
   "cell_type": "markdown",
   "metadata": {
    "id": "1UUpS68QDMuG"
   },
   "source": [
    "### 7. Dimesionality Reduction"
   ]
  },
  {
   "cell_type": "markdown",
   "metadata": {
    "id": "kexQrXU-DjzY"
   },
   "source": [
    "##### Do you think that dimensionality reduction is needed? Explain Why?"
   ]
  },
  {
   "cell_type": "markdown",
   "metadata": {
    "id": "GGRlBsSGDtTQ"
   },
   "source": [
    "Answer Here."
   ]
  },
  {
   "cell_type": "code",
   "execution_count": null,
   "metadata": {
    "id": "kQfvxBBHDvCa"
   },
   "outputs": [],
   "source": [
    "# DImensionality Reduction (If needed)"
   ]
  },
  {
   "cell_type": "markdown",
   "metadata": {
    "id": "T5CmagL3EC8N"
   },
   "source": [
    "##### Which dimensionality reduction technique have you used and why? (If dimensionality reduction done on dataset.)"
   ]
  },
  {
   "cell_type": "markdown",
   "metadata": {
    "id": "ZKr75IDuEM7t"
   },
   "source": [
    "Answer Here."
   ]
  },
  {
   "cell_type": "markdown",
   "metadata": {
    "id": "BhH2vgX9EjGr"
   },
   "source": [
    "### 8. Data Splitting"
   ]
  },
  {
   "cell_type": "code",
   "execution_count": null,
   "metadata": {
    "id": "0CTyd2UwEyNM"
   },
   "outputs": [],
   "source": [
    "# Split your data to train and test. Choose Splitting ratio wisely."
   ]
  },
  {
   "cell_type": "markdown",
   "metadata": {
    "id": "qjKvONjwE8ra"
   },
   "source": [
    "##### What data splitting ratio have you used and why? "
   ]
  },
  {
   "cell_type": "markdown",
   "metadata": {
    "id": "Y2lJ8cobFDb_"
   },
   "source": [
    "Answer Here."
   ]
  },
  {
   "cell_type": "markdown",
   "metadata": {
    "id": "P1XJ9OREExlT"
   },
   "source": [
    "### 9. Handling Imbalanced Dataset"
   ]
  },
  {
   "cell_type": "markdown",
   "metadata": {
    "id": "VFOzZv6IFROw"
   },
   "source": [
    "##### Do you think the dataset is imbalanced? Explain Why."
   ]
  },
  {
   "cell_type": "markdown",
   "metadata": {
    "id": "GeKDIv7pFgcC"
   },
   "source": [
    "Answer Here."
   ]
  },
  {
   "cell_type": "code",
   "execution_count": null,
   "metadata": {
    "id": "nQsRhhZLFiDs"
   },
   "outputs": [],
   "source": [
    "# Handling Imbalanced Dataset (If needed)"
   ]
  },
  {
   "cell_type": "markdown",
   "metadata": {
    "id": "TIqpNgepFxVj"
   },
   "source": [
    "##### What technique did you use to handle the imbalance dataset and why? (If needed to be balanced)"
   ]
  },
  {
   "cell_type": "markdown",
   "metadata": {
    "id": "qbet1HwdGDTz"
   },
   "source": [
    "Answer Here."
   ]
  },
  {
   "cell_type": "markdown",
   "metadata": {
    "id": "VfCC591jGiD4"
   },
   "source": [
    "## ***7. ML Model Implementation***"
   ]
  },
  {
   "cell_type": "markdown",
   "metadata": {
    "id": "OB4l2ZhMeS1U"
   },
   "source": [
    "### ML Model - 1"
   ]
  },
  {
   "cell_type": "code",
   "execution_count": null,
   "metadata": {
    "id": "7ebyywQieS1U"
   },
   "outputs": [],
   "source": [
    "# ML Model - 1 Implementation\n",
    "\n",
    "# Fit the Algorithm\n",
    "\n",
    "# Predict on the model"
   ]
  },
  {
   "cell_type": "markdown",
   "metadata": {
    "id": "ArJBuiUVfxKd"
   },
   "source": [
    "#### 1. Explain the ML Model used and it's performance using Evaluation metric Score Chart."
   ]
  },
  {
   "cell_type": "code",
   "execution_count": null,
   "metadata": {
    "id": "rqD5ZohzfxKe"
   },
   "outputs": [],
   "source": [
    "# Visualizing evaluation Metric Score chart"
   ]
  },
  {
   "cell_type": "markdown",
   "metadata": {
    "id": "4qY1EAkEfxKe"
   },
   "source": [
    "#### 2. Cross- Validation & Hyperparameter Tuning"
   ]
  },
  {
   "cell_type": "code",
   "execution_count": null,
   "metadata": {
    "id": "Dy61ujd6fxKe"
   },
   "outputs": [],
   "source": [
    "# ML Model - 1 Implementation with hyperparameter optimization techniques (i.e., GridSearch CV, RandomSearch CV, Bayesian Optimization etc.)\n",
    "\n",
    "# Fit the Algorithm\n",
    "\n",
    "# Predict on the model"
   ]
  },
  {
   "cell_type": "markdown",
   "metadata": {
    "id": "PiV4Ypx8fxKe"
   },
   "source": [
    "##### Which hyperparameter optimization technique have you used and why?"
   ]
  },
  {
   "cell_type": "markdown",
   "metadata": {
    "id": "negyGRa7fxKf"
   },
   "source": [
    "Answer Here."
   ]
  },
  {
   "cell_type": "markdown",
   "metadata": {
    "id": "TfvqoZmBfxKf"
   },
   "source": [
    "##### Have you seen any improvement? Note down the improvement with updates Evaluation metric Score Chart."
   ]
  },
  {
   "cell_type": "markdown",
   "metadata": {
    "id": "OaLui8CcfxKf"
   },
   "source": [
    "Answer Here."
   ]
  },
  {
   "cell_type": "markdown",
   "metadata": {
    "id": "dJ2tPlVmpsJ0"
   },
   "source": [
    "### ML Model - 2"
   ]
  },
  {
   "cell_type": "markdown",
   "metadata": {
    "id": "JWYfwnehpsJ1"
   },
   "source": [
    "#### 1. Explain the ML Model used and it's performance using Evaluation metric Score Chart."
   ]
  },
  {
   "cell_type": "code",
   "execution_count": null,
   "metadata": {
    "id": "yEl-hgQWpsJ1"
   },
   "outputs": [],
   "source": [
    "# Visualizing evaluation Metric Score chart"
   ]
  },
  {
   "cell_type": "markdown",
   "metadata": {
    "id": "-jK_YjpMpsJ2"
   },
   "source": [
    "#### 2. Cross- Validation & Hyperparameter Tuning"
   ]
  },
  {
   "cell_type": "code",
   "execution_count": null,
   "metadata": {
    "id": "Dn0EOfS6psJ2"
   },
   "outputs": [],
   "source": [
    "# ML Model - 1 Implementation with hyperparameter optimization techniques (i.e., GridSearch CV, RandomSearch CV, Bayesian Optimization etc.)\n",
    "\n",
    "# Fit the Algorithm\n",
    "\n",
    "# Predict on the model"
   ]
  },
  {
   "cell_type": "markdown",
   "metadata": {
    "id": "HAih1iBOpsJ2"
   },
   "source": [
    "##### Which hyperparameter optimization technique have you used and why?"
   ]
  },
  {
   "cell_type": "markdown",
   "metadata": {
    "id": "9kBgjYcdpsJ2"
   },
   "source": [
    "Answer Here."
   ]
  },
  {
   "cell_type": "markdown",
   "metadata": {
    "id": "zVGeBEFhpsJ2"
   },
   "source": [
    "##### Have you seen any improvement? Note down the improvement with updates Evaluation metric Score Chart."
   ]
  },
  {
   "cell_type": "markdown",
   "metadata": {
    "id": "74yRdG6UpsJ3"
   },
   "source": [
    "Answer Here."
   ]
  },
  {
   "cell_type": "markdown",
   "metadata": {
    "id": "bmKjuQ-FpsJ3"
   },
   "source": [
    "#### 3. Explain each evaluation metric's indication towards business and the business impact pf the ML model used."
   ]
  },
  {
   "cell_type": "markdown",
   "metadata": {
    "id": "BDKtOrBQpsJ3"
   },
   "source": [
    "Answer Here."
   ]
  },
  {
   "cell_type": "markdown",
   "metadata": {
    "id": "Fze-IPXLpx6K"
   },
   "source": [
    "### ML Model - 3"
   ]
  },
  {
   "cell_type": "code",
   "execution_count": null,
   "metadata": {
    "id": "FFrSXAtrpx6M"
   },
   "outputs": [],
   "source": [
    "# ML Model - 3 Implementation\n",
    "\n",
    "# Fit the Algorithm\n",
    "\n",
    "# Predict on the model"
   ]
  },
  {
   "cell_type": "markdown",
   "metadata": {
    "id": "7AN1z2sKpx6M"
   },
   "source": [
    "#### 1. Explain the ML Model used and it's performance using Evaluation metric Score Chart."
   ]
  },
  {
   "cell_type": "code",
   "execution_count": null,
   "metadata": {
    "id": "xIY4lxxGpx6M"
   },
   "outputs": [],
   "source": [
    "# Visualizing evaluation Metric Score chart"
   ]
  },
  {
   "cell_type": "markdown",
   "metadata": {
    "id": "9PIHJqyupx6M"
   },
   "source": [
    "#### 2. Cross- Validation & Hyperparameter Tuning"
   ]
  },
  {
   "cell_type": "code",
   "execution_count": null,
   "metadata": {
    "id": "eSVXuaSKpx6M"
   },
   "outputs": [],
   "source": [
    "# ML Model - 3 Implementation with hyperparameter optimization techniques (i.e., GridSearch CV, RandomSearch CV, Bayesian Optimization etc.)\n",
    "\n",
    "# Fit the Algorithm\n",
    "\n",
    "# Predict on the model"
   ]
  },
  {
   "cell_type": "markdown",
   "metadata": {
    "id": "_-qAgymDpx6N"
   },
   "source": [
    "##### Which hyperparameter optimization technique have you used and why?"
   ]
  },
  {
   "cell_type": "markdown",
   "metadata": {
    "id": "lQMffxkwpx6N"
   },
   "source": [
    "Answer Here."
   ]
  },
  {
   "cell_type": "markdown",
   "metadata": {
    "id": "Z-hykwinpx6N"
   },
   "source": [
    "##### Have you seen any improvement? Note down the improvement with updates Evaluation metric Score Chart."
   ]
  },
  {
   "cell_type": "markdown",
   "metadata": {
    "id": "MzVzZC6opx6N"
   },
   "source": [
    "Answer Here."
   ]
  },
  {
   "cell_type": "markdown",
   "metadata": {
    "id": "h_CCil-SKHpo"
   },
   "source": [
    "### 1. Which Evaluation metrics did you consider for a positive business impact and why?"
   ]
  },
  {
   "cell_type": "markdown",
   "metadata": {
    "id": "jHVz9hHDKFms"
   },
   "source": [
    "Answer Here."
   ]
  },
  {
   "cell_type": "markdown",
   "metadata": {
    "id": "cBFFvTBNJzUa"
   },
   "source": [
    "### 2. Which ML model did you choose from the above created models as your final prediction model and why?"
   ]
  },
  {
   "cell_type": "markdown",
   "metadata": {
    "id": "6ksF5Q1LKTVm"
   },
   "source": [
    "Answer Here."
   ]
  },
  {
   "cell_type": "markdown",
   "metadata": {
    "id": "HvGl1hHyA_VK"
   },
   "source": [
    "### 3. Explain the model which you have used and the feature importance using any model explainability tool?"
   ]
  },
  {
   "cell_type": "markdown",
   "metadata": {
    "id": "YnvVTiIxBL-C"
   },
   "source": [
    "Answer Here."
   ]
  },
  {
   "cell_type": "markdown",
   "metadata": {
    "id": "EyNgTHvd2WFk"
   },
   "source": [
    "## ***8.*** ***Future Work (Optional)***"
   ]
  },
  {
   "cell_type": "markdown",
   "metadata": {
    "id": "KH5McJBi2d8v"
   },
   "source": [
    "### 1. Save the best performing ml model in a pickle file or joblib file format for deployment process.\n"
   ]
  },
  {
   "cell_type": "code",
   "execution_count": null,
   "metadata": {
    "id": "bQIANRl32f4J"
   },
   "outputs": [],
   "source": [
    "# Save the File"
   ]
  },
  {
   "cell_type": "markdown",
   "metadata": {
    "id": "iW_Lq9qf2h6X"
   },
   "source": [
    "### 2. Again Load the saved model file and try to predict unseen data for a sanity check.\n"
   ]
  },
  {
   "cell_type": "code",
   "execution_count": null,
   "metadata": {
    "id": "oEXk9ydD2nVC"
   },
   "outputs": [],
   "source": [
    "# Load the File and predict unseen data."
   ]
  },
  {
   "cell_type": "markdown",
   "metadata": {
    "id": "-Kee-DAl2viO"
   },
   "source": [
    "### ***Congrats! Your model is successfully created and ready for deployment on a live server for a real user interaction !!!***"
   ]
  },
  {
   "cell_type": "markdown",
   "metadata": {
    "id": "gCX9965dhzqZ"
   },
   "source": [
    "# **Conclusion**"
   ]
  },
  {
   "cell_type": "markdown",
   "metadata": {
    "id": "Fjb1IsQkh3yE"
   },
   "source": [
    "Write the conclusion here."
   ]
  },
  {
   "cell_type": "markdown",
   "metadata": {
    "id": "gIfDvo9L0UH2"
   },
   "source": [
    "### ***Hurrah! You have successfully completed your Machine Learning Capstone Project !!!***"
   ]
  }
 ],
 "metadata": {
  "colab": {
   "authorship_tag": "ABX9TyOeo+PWt+R5bUCtbj195tjB",
   "collapsed_sections": [
    "vncDsAP0Gaoa",
    "FJNUwmbgGyua",
    "w6K7xa23Elo4",
    "yQaldy8SH6Dl",
    "mDgbUHAGgjLW",
    "O_i_v8NEhb9l",
    "HhfV-JJviCcP",
    "Y3lxredqlCYt",
    "3RnN4peoiCZX",
    "x71ZqKXriCWQ",
    "7hBIi_osiCS2",
    "JlHwYmJAmNHm",
    "35m5QtbWiB9F",
    "PoPl-ycgm1ru",
    "H0kj-8xxnORC",
    "nA9Y7ga8ng1Z",
    "PBTbrJXOngz2",
    "u3PMJOP6ngxN",
    "dauF4eBmngu3",
    "bKJF3rekwFvQ",
    "MSa1f5Uengrz",
    "GF8Ens_Soomf",
    "0wOQAZs5pc--",
    "K5QZ13OEpz2H",
    "lQ7QKXXCp7Bj",
    "448CDAPjqfQr",
    "KSlN3yHqYklG",
    "t6dVpIINYklI",
    "ijmpgYnKYklI",
    "-JiQyfWJYklI",
    "EM7whBJCYoAo",
    "fge-S5ZAYoAp",
    "85gYPyotYoAp",
    "RoGjAbkUYoAp",
    "4Of9eVA-YrdM",
    "iky9q4vBYrdO",
    "F6T5p64dYrdO",
    "y-Ehk30pYrdP",
    "bamQiAODYuh1",
    "QHF8YVU7Yuh3",
    "GwzvFGzlYuh3",
    "qYpmQ266Yuh3",
    "OH-pJp9IphqM",
    "bbFf2-_FphqN",
    "_ouA3fa0phqN",
    "Seke61FWphqN",
    "PIIx-8_IphqN",
    "t27r6nlMphqO",
    "r2jJGEOYphqO",
    "b0JNsNcRphqO",
    "BZR9WyysphqO",
    "jj7wYXLtphqO",
    "eZrbJ2SmphqO",
    "rFu4xreNphqO",
    "YJ55k-q6phqO",
    "gCFgpxoyphqP",
    "OVtJsKN_phqQ",
    "lssrdh5qphqQ",
    "U2RJ9gkRphqQ",
    "1M8mcRywphqQ",
    "tgIPom80phqQ",
    "JMzcOPDDphqR",
    "x-EpHcCOp1ci",
    "X_VqEhTip1ck",
    "8zGJKyg5p1ck",
    "PVzmfK_Ep1ck",
    "n3dbpmDWp1ck",
    "ylSl6qgtp1ck",
    "ZWILFDl5p1ck",
    "M7G43BXep1ck",
    "Ag9LCva-p1cl",
    "E6MkPsBcp1cl",
    "2cELzS2fp1cl",
    "3MPXvC8up1cl",
    "NC_X3p0fY2L0",
    "UV0SzAkaZNRQ",
    "YPEH6qLeZNRQ",
    "q29F0dvdveiT",
    "EXh0U9oCveiU",
    "22aHeOlLveiV",
    "g-ATYxFrGrvw",
    "Yfr_Vlr8HBkt",
    "8yEUt7NnHlrM",
    "tEA2Xm5dHt1r",
    "I79__PHVH19G",
    "Ou-I18pAyIpj",
    "fF3858GYyt-u",
    "4_0_7-oCpUZd",
    "hwyV_J3ipUZe",
    "3yB-zSqbpUZe",
    "dEUvejAfpUZe",
    "Fd15vwWVpUZf",
    "bn_IUdTipZyH",
    "49K5P_iCpZyH",
    "Nff-vKELpZyI",
    "kLW572S8pZyI",
    "dWbDXHzopZyI",
    "yLjJCtPM0KBk",
    "xiyOF9F70UgQ",
    "7wuGOrhz0itI",
    "id1riN9m0vUs",
    "578E2V7j08f6",
    "89xtkJwZ18nB",
    "67NQN5KX2AMe",
    "Iwf50b-R2tYG",
    "GMQiZwjn3iu7",
    "WVIkgGqN3qsr",
    "XkPnILGE3zoT",
    "Hlsf0x5436Go",
    "mT9DMSJo4nBL",
    "c49ITxTc407N",
    "OeJFEK0N496M",
    "9ExmJH0g5HBk",
    "cJNqERVU536h",
    "k5UmGsbsOxih",
    "T0VqWOYE6DLQ",
    "qBMux9mC6MCf",
    "-oLEiFgy-5Pf",
    "C74aWNz2AliB",
    "2DejudWSA-a0",
    "pEMng2IbBLp7",
    "rAdphbQ9Bhjc",
    "TNVZ9zx19K6k",
    "nqoHp30x9hH9",
    "rMDnDkt2B6du",
    "yiiVWRdJDDil",
    "1UUpS68QDMuG",
    "kexQrXU-DjzY",
    "T5CmagL3EC8N",
    "BhH2vgX9EjGr",
    "qjKvONjwE8ra",
    "P1XJ9OREExlT",
    "VFOzZv6IFROw",
    "TIqpNgepFxVj",
    "VfCC591jGiD4",
    "OB4l2ZhMeS1U",
    "ArJBuiUVfxKd",
    "4qY1EAkEfxKe",
    "PiV4Ypx8fxKe",
    "TfvqoZmBfxKf",
    "dJ2tPlVmpsJ0",
    "JWYfwnehpsJ1",
    "-jK_YjpMpsJ2",
    "HAih1iBOpsJ2",
    "zVGeBEFhpsJ2",
    "bmKjuQ-FpsJ3",
    "Fze-IPXLpx6K",
    "7AN1z2sKpx6M",
    "9PIHJqyupx6M",
    "_-qAgymDpx6N",
    "Z-hykwinpx6N",
    "h_CCil-SKHpo",
    "cBFFvTBNJzUa",
    "HvGl1hHyA_VK",
    "EyNgTHvd2WFk",
    "KH5McJBi2d8v",
    "iW_Lq9qf2h6X",
    "-Kee-DAl2viO",
    "gCX9965dhzqZ",
    "gIfDvo9L0UH2"
   ],
   "private_outputs": true,
   "provenance": []
  },
  "kernelspec": {
   "display_name": "Python 3 (ipykernel)",
   "language": "python",
   "name": "python3"
  },
  "language_info": {
   "codemirror_mode": {
    "name": "ipython",
    "version": 3
   },
   "file_extension": ".py",
   "mimetype": "text/x-python",
   "name": "python",
   "nbconvert_exporter": "python",
   "pygments_lexer": "ipython3",
   "version": "3.10.11"
  }
 },
 "nbformat": 4,
 "nbformat_minor": 4
}
